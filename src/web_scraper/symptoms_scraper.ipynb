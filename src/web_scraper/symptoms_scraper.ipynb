{
 "cells": [
  {
   "cell_type": "code",
   "execution_count": 14,
   "metadata": {},
   "outputs": [],
   "source": [
    "import requests\n",
    "import bs4\n",
    "from bs4 import BeautifulSoup"
   ]
  },
  {
   "cell_type": "code",
   "execution_count": 15,
   "metadata": {},
   "outputs": [],
   "source": [
    "def get_symptoms(URL):\n",
    "    r = requests.get(URL)\n",
    "\n",
    "    soup = BeautifulSoup(r.content, 'html5lib') # If this line causes an error, run 'pip install html5lib' or install html5lib\n",
    "#     print(soup.prettify())\n",
    "\n",
    "    name = soup.find('h1').get_text()\n",
    "    \n",
    "    content = soup.find('div', class_='content')\n",
    "#     content = content.find('h2').previous_element.previous_element.previous_element\n",
    "    \n",
    "    h2_list = content.find_all('h2')\n",
    "    \n",
    "    symp_index = -1\n",
    "    for i in range(len(h2_list)):\n",
    "        if h2_list[i].get_text() == 'Symptoms':\n",
    "            symp_index = i\n",
    "            break\n",
    "\n",
    "    if symp_index == -1:\n",
    "        return {}\n",
    "    else:\n",
    "        visually_hidden = content.find_all(\"span\", {\"class\": \"myc-visuallyhidden\"})\n",
    "        weird_error = content.find_all(\"p\", {\"class\": \"myc-error-header\"})\n",
    "        form_error = [\"myc-subscription-form\", \"acces-list-container\", \"requestappt\"]\n",
    "        \n",
    "        h2_index = symp_index\n",
    "        element = h2_list[h2_index]\n",
    "\n",
    "        parser_dict = {}\n",
    "        parser_dict['illness'] = name\n",
    "        \n",
    "        images = content.find_all(\"img\")\n",
    "        \n",
    "        if len(images) > 0:\n",
    "            parser_dict['img'] = \"https://www.mayoclinic.org\" + images[0]['src']\n",
    "        \n",
    "        parser_dict['url'] = URL\n",
    "        \n",
    "        section_str = \"\"\n",
    "        form_str = \"\"\n",
    "        \n",
    "        form = False\n",
    "\n",
    "        while h2_index == symp_index:\n",
    "            element = element.next_element\n",
    "            if element == h2_list[h2_index + 1]:\n",
    "                parser_dict[h2_list[h2_index].get_text().lower()] = section_str.replace(\"  \", \" \").replace(\" , \", \", \").replace(\" . \", \". \")\n",
    "                h2_index += 1\n",
    "                section_str = ''\n",
    "                \n",
    "                form = False\n",
    "\n",
    "        #         if element.get_text() == '':\n",
    "        #             empty_header = True\n",
    "\n",
    "            elif isinstance(element, bs4.element.NavigableString):\n",
    "                if not isinstance(element, bs4.element.Comment):\n",
    "                    if (element != h2_list[h2_index].get_text()):\n",
    "                        if not element.isspace():\n",
    "                            if form:\n",
    "                                form_str += element\n",
    "                            else:\n",
    "                                section_str += element.strip() + ' '\n",
    "\n",
    "            elif element in visually_hidden:\n",
    "                element = element.next_element\n",
    "#                 print('Got one!')\n",
    "\n",
    "            elif element in weird_error:\n",
    "                element = element.next_element\n",
    "#                 print('Oh!')\n",
    "            \n",
    "            elif isinstance(element, bs4.element.Tag):\n",
    "                if element.name == \"style\":\n",
    "                    element = element.next_element\n",
    "                elif element.name == \"div\" and element.has_attr(\"class\"):\n",
    "                    if any(item in form_error for item in element[\"class\"]):\n",
    "                        form = True\n",
    "            \n",
    "                \n",
    "        return parser_dict"
   ]
  },
  {
   "cell_type": "code",
   "execution_count": 16,
   "metadata": {},
   "outputs": [],
   "source": [
    "URLS = []\n",
    "with open('top_20.txt', mode='r') as top10:\n",
    "    for illness in top10:\n",
    "        URLS.append(illness.strip())"
   ]
  },
  {
   "cell_type": "code",
   "execution_count": 17,
   "metadata": {},
   "outputs": [],
   "source": [
    "top10_symptoms = []\n",
    "for URL in URLS:\n",
    "    top10_symptoms.append(get_symptoms(URL))"
   ]
  },
  {
   "cell_type": "code",
   "execution_count": 18,
   "metadata": {},
   "outputs": [
    {
     "data": {
      "text/plain": [
       "[{'illness': 'COPD',\n",
       "  'img': 'https://www.mayoclinic.org/-/media/kcms/gbs/patient-consumer/images/2013/11/15/17/40/ds00916_-ds00296_im04560_mcdc7_emphysemathu_jpg.jpg',\n",
       "  'url': 'https://www.mayoclinic.org/diseases-conditions/copd/symptoms-causes/syc-20353679',\n",
       "  'symptoms': \"COPD symptoms often don't appear until significant lung damage has occurred, and they usually worsen over time, particularly if smoking exposure continues. Signs and symptoms of COPD may include: Shortness of breath, especially during physical activities Wheezing Chest tightness A chronic cough that may produce mucus (sputum) that may be clear, white, yellow or greenish Frequent respiratory infections Lack of energy Unintended weight loss (in later stages) Swelling in ankles, feet or legs People with COPD are also likely to experience episodes called exacerbations, during which their symptoms become worse than the usual day-to-day variation and persist for at least several days. When to see a doctor Talk to your doctor if your symptoms are not improving with treatment or getting worse, or if you notice symptoms of an infection, such as fever or a change in sputum. Seek immediate medical care if you can't catch your breath, if you experience severe blueness of your lips or fingernail beds (cyanosis) or a rapid heartbeat, or if you feel foggy and have trouble concentrating. \"},\n",
       " {'illness': \"Alzheimer's disease\",\n",
       "  'url': 'https://www.mayoclinic.org/diseases-conditions/alzheimers-disease/symptoms-causes/syc-20350447',\n",
       "  'symptoms': \"Memory loss is the key symptom of Alzheimer's disease. Early signs include difficulty remembering recent events or conversations. As the disease progresses, memory impairments worsen and other symptoms develop. At first, a person with Alzheimer's disease may be aware of having difficulty remembering things and organizing thoughts. A family member or friend may be more likely to notice how the symptoms worsen. Brain changes associated with Alzheimer's disease lead to growing trouble with: Memory Everyone has occasional memory lapses, but the memory loss associated with Alzheimer's disease persists and worsens, affecting the ability to function at work or at home. People with Alzheimer's may: Repeat statements and questions over and over Forget conversations, appointments or events, and not remember them later Routinely misplace possessions, often putting them in illogical locations Get lost in familiar places Eventually forget the names of family members and everyday objects Have trouble finding the right words to identify objects, express thoughts or take part in conversations Thinking and reasoning Alzheimer's disease causes difficulty concentrating and thinking, especially about abstract concepts such as numbers. Multitasking is especially difficult, and it may be challenging to manage finances, balance checkbooks and pay bills on time. Eventually, a person with Alzheimer's may be unable to recognize and deal with numbers. Making judgments and decisions Alzheimer's causes a decline in the ability to make reasonable decisions and judgments in everyday situations. For example, a person may make poor or uncharacteristic choices in social interactions or wear clothes that are inappropriate for the weather. It may be more difficult to respond effectively to everyday problems, such as food burning on the stove or unexpected driving situations. Planning and performing familiar tasks Once-routine activities that require sequential steps, such as planning and cooking a meal or playing a favorite game, become a struggle as the disease progresses. Eventually, people with advanced Alzheimer's often forget how to perform basic tasks such as dressing and bathing. Changes in personality and behavior Brain changes that occur in Alzheimer's disease can affect moods and behaviors. Problems may include the following: Depression Apathy Social withdrawal Mood swings Distrust in others Irritability and aggressiveness Changes in sleeping habits Wandering Loss of inhibitions Delusions, such as believing something has been stolen Preserved skills Many important skills are preserved for longer periods even while symptoms worsen. Preserved skills may include reading or listening to books, telling stories and reminiscing, singing, listening to music, dancing, drawing, or doing crafts. These skills may be preserved longer because they are controlled by parts of the brain affected later in the course of the disease. When to see a doctor A number of conditions, including treatable conditions, can result in memory loss or other dementia symptoms. If you are concerned about your memory or other thinking skills, talk to your doctor for a thorough assessment and diagnosis. If you are concerned about thinking skills you observe in a family member or friend, talk about your concerns and ask about going together to a doctor's appointment. \"},\n",
       " {'illness': 'Depression (major depressive disorder)',\n",
       "  'url': 'https://www.mayoclinic.org/diseases-conditions/depression/symptoms-causes/syc-20356007',\n",
       "  'symptoms': 'Although depression may occur only once during your life, people typically have multiple episodes. During these episodes, symptoms occur most of the day, nearly every day and may include: Feelings of sadness, tearfulness, emptiness or hopelessness Angry outbursts, irritability or frustration, even over small matters Loss of interest or pleasure in most or all normal activities, such as sex, hobbies or sports Sleep disturbances, including insomnia or sleeping too much Tiredness and lack of energy, so even small tasks take extra effort Reduced appetite and weight loss or increased cravings for food and weight gain Anxiety, agitation or restlessness Slowed thinking, speaking or body movements Feelings of worthlessness or guilt, fixating on past failures or self-blame Trouble thinking, concentrating, making decisions and remembering things Frequent or recurrent thoughts of death, suicidal thoughts, suicide attempts or suicide Unexplained physical problems, such as back pain or headaches For many people with depression, symptoms usually are severe enough to cause noticeable problems in day-to-day activities, such as work, school, social activities or relationships with others. Some people may feel generally miserable or unhappy without really knowing why. Depression symptoms in children and teens Common signs and symptoms of depression in children and teenagers are similar to those of adults, but there can be some differences. In younger children, symptoms of depression may include sadness, irritability, clinginess, worry, aches and pains, refusing to go to school, or being underweight. In teens, symptoms may include sadness, irritability, feeling negative and worthless, anger, poor performance or poor attendance at school, feeling misunderstood and extremely sensitive, using recreational drugs or alcohol, eating or sleeping too much, self-harm, loss of interest in normal activities, and avoidance of social interaction. Depression symptoms in older adults Depression is not a normal part of growing older, and it should never be taken lightly. Unfortunately, depression often goes undiagnosed and untreated in older adults, and they may feel reluctant to seek help. Symptoms of depression may be different or less obvious in older adults, such as: Memory difficulties or personality changes Physical aches or pain Fatigue, loss of appetite, sleep problems or loss of interest in sex — not caused by a medical condition or medication Often wanting to stay at home, rather than going out to socialize or doing new things Suicidal thinking or feelings, especially in older men When to see a doctor If you feel depressed, make an appointment to see your doctor or mental health professional as soon as you can. If you\\'re reluctant to seek treatment, talk to a friend or loved one, any health care professional, a faith leader, or someone else you trust. When to get emergency help If you think you may hurt yourself or attempt suicide, call 911 or your local emergency number immediately. Also consider these options if you\\'re having suicidal thoughts: Call your doctor or mental health professional. Call a suicide hotline number — in the U.S., call the National Suicide Prevention Lifeline at 1-800-273-TALK (1-800-273-8255). Use that same number and press \"1\" to reach the Veterans Crisis Line. Reach out to a close friend or loved one. Contact a minister, spiritual leader or someone else in your faith community. If you have a loved one who is in danger of suicide or has made a suicide attempt, make sure someone stays with that person. Call 911 or your local emergency number immediately. Or, if you think you can do so safely, take the person to the nearest hospital emergency room. '},\n",
       " {'illness': 'Heart failure',\n",
       "  'img': 'https://www.mayoclinic.org/-/media/kcms/gbs/patient-consumer/images/2015/01/16/09/27/mcdc7_heart-failure.jpg',\n",
       "  'url': 'https://www.mayoclinic.org/diseases-conditions/heart-failure/symptoms-causes/syc-20373142',\n",
       "  'symptoms': \"Heart failure Heart failure Heart failure Heart failure occurs when the heart muscle doesn't pump blood as well as it should. Blood often backs up and causes fluid to build up in the lungs (congest) and in the legs. The fluid buildup can cause shortness of breath and swelling of the legs and feet. Poor blood flow may cause the skin to appear blue (cyanotic). Some types of heart failure can lead to an enlarged heart. Heart failure can be ongoing (chronic), or it may start suddenly (acute). Heart failure signs and symptoms may include: Shortness of breath with activity or when lying down Fatigue and weakness Swelling in the legs, ankles and feet Rapid or irregular heartbeat Reduced ability to exercise Persistent cough or wheezing with white or pink blood-tinged mucus Swelling of the belly area (abdomen) Very rapid weight gain from fluid buildup Nausea and lack of appetite Difficulty concentrating or decreased alertness Chest pain if heart failure is caused by a heart attack When to see a doctor See your doctor if you think you might be experiencing signs or symptoms of heart failure. Call 911 or emergency medical help if you have any of the following: Chest pain Fainting or severe weakness Rapid or irregular heartbeat associated with shortness of breath, chest pain or fainting Sudden, severe shortness of breath and coughing up white or pink, foamy mucus Although these signs and symptoms may be due to heart failure, there are many other possible causes, including other life-threatening heart and lung conditions. Don't try to diagnose yourself. Emergency room doctors will try to stabilize your condition and determine if your symptoms are due to heart failure or something else. If you have a diagnosis of heart failure and if any of the symptoms suddenly become worse or you develop a new sign or symptom, it may mean that existing heart failure is getting worse or not responding to treatment. This may also be the case if you gain 5 pounds (2.3 kilograms) or more within a few days. Contact your doctor promptly. \"},\n",
       " {'illness': 'Chronic kidney disease',\n",
       "  'img': 'https://www.mayoclinic.org/-/media/kcms/gbs/patient-consumer/images/2016/06/08/06/mcdc7_diseased_kidney-8col.jpg',\n",
       "  'url': 'https://www.mayoclinic.org/diseases-conditions/chronic-kidney-disease/symptoms-causes/syc-20354521',\n",
       "  'symptoms': \"Signs and symptoms of chronic kidney disease develop over time if kidney damage progresses slowly. Loss of kidney function can cause a buildup of fluid or body waste or electrolyte problems. Depending on how severe it is, loss of kidney function can cause: Nausea Vomiting Loss of appetite Fatigue and weakness Sleep problems Urinating more or less Decreased mental sharpness Muscle cramps Swelling of feet and ankles Dry, itchy skin High blood pressure (hypertension) that's difficult to control Shortness of breath, if fluid builds up in the lungs Chest pain, if fluid builds up around the lining of the heart Signs and symptoms of kidney disease are often nonspecific. This means they can also be caused by other illnesses. Because your kidneys are able to make up for lost function, you might not develop signs and symptoms until irreversible damage has occurred. When to see a doctor Make an appointment with your doctor if you have signs or symptoms of kidney disease. Early detection might help prevent kidney disease from progressing to kidney failure. If you have a medical condition that increases your risk of kidney disease, your doctor may monitor your blood pressure and kidney function with urine and blood tests during office visits. Ask your doctor whether these tests are necessary for you. \"},\n",
       " {'illness': 'Type 2 diabetes',\n",
       "  'url': 'https://www.mayoclinic.org/diseases-conditions/type-2-diabetes/symptoms-causes/syc-20351193',\n",
       "  'symptoms': 'Signs and symptoms of type 2 diabetes often develop slowly. In fact, you can be living with type 2 diabetes for years and not know it. When signs and symptoms are present, they may include: Increased thirst Frequent urination Increased hunger Unintended weight loss Fatigue Blurred vision Slow-healing sores Frequent infections Numbness or tingling in the hands or feet Areas of darkened skin, usually in the armpits and neck When to see a doctor See your doctor if you notice any signs or symptoms of type 2 diabetes. '},\n",
       " {'illness': 'Heart disease',\n",
       "  'img': 'https://www.mayoclinic.org/-/media/kcms/gbs/patient-consumer/images/2014/09/22/12/43/mcdc7_theheart.jpg',\n",
       "  'url': 'https://www.mayoclinic.org/diseases-conditions/heart-disease/symptoms-causes/syc-20353118',\n",
       "  'symptoms': \"Heart disease symptoms depend on what type of heart disease you have. Symptoms of heart disease in your blood vessels A buildup of fatty plaques in your arteries, or atherosclerosis (ath-ur-o-skluh-ROE-sis) can damage your blood vessels and heart. Plaque buildup causes narrowed or blocked blood vessels that can lead to a heart attack, chest pain (angina) or stroke. Coronary artery disease symptoms may be different for men and women. For instance, men are more likely to have chest pain. Women are more likely to have other signs and symptoms along with chest discomfort, such as shortness of breath, nausea and extreme fatigue. Signs and symptoms can include: Chest pain, chest tightness, chest pressure and chest discomfort (angina) Shortness of breath Pain, numbness, weakness or coldness in your legs or arms if the blood vessels in those parts of your body are narrowed Pain in the neck, jaw, throat, upper abdomen or back You might not be diagnosed with coronary artery disease until you have a heart attack, angina, stroke or heart failure. It's important to watch for cardiovascular symptoms and discuss concerns with your doctor. Cardiovascular disease can sometimes be found early with regular evaluations. Heart disease symptoms caused by abnormal heartbeats (heart arrhythmias) Your heart may beat too quickly, too slowly or irregularly. Heart arrhythmia signs and symptoms can include: Fluttering in your chest Racing heartbeat (tachycardia) Slow heartbeat (bradycardia) Chest pain or discomfort Shortness of breath Lightheadedness Dizziness Fainting (syncope) or near fainting Heart disease symptoms caused by heart defects Serious heart defects that you're born with (congenital heart defects) usually are noticed soon after birth. Heart defect signs and symptoms in children could include: Pale gray or blue skin color (cyanosis) Swelling in the legs, abdomen or areas around the eyes In an infant, shortness of breath during feedings, leading to poor weight gain Less serious congenital heart defects are often not diagnosed until later in childhood or during adulthood. Signs and symptoms of congenital heart defects that usually aren't immediately life-threatening include: Easily getting short of breath during exercise or activity Easily tiring during exercise or activity Swelling in the hands, ankles or feet Heart disease symptoms caused by diseased heart muscle (cardiomyopathy) In early stages of cardiomyopathy, you may have no symptoms. As the condition worsens, symptoms may include: Breathlessness with activity or at rest Swelling of the legs, ankles and feet Fatigue Irregular heartbeats that feel rapid, pounding or fluttering Dizziness, lightheadedness and fainting Heart disease symptoms caused by heart infection Endocarditis is an infection that affects the inner lining of your heart chambers and heart valves (endocardium). Heart infection signs and symptoms can include: Fever Shortness of breath Weakness or fatigue Swelling in your legs or abdomen Changes in your heart rhythm Dry or persistent cough Skin rashes or unusual spots Heart disease symptoms caused by heart valve problems (valvular heart disease) The heart has four valves — the aortic, mitral, pulmonary and tricuspid valves — that open and close to direct blood flow through your heart. Many things can damage your heart valves, leading to narrowing (stenosis), leaking (regurgitation or insufficiency) or improper closing (prolapse). Depending on which valve isn't working properly, valvular heart disease signs and symptoms generally include: Fatigue Shortness of breath Irregular heartbeat Swollen feet or ankles Chest pain Fainting (syncope) When to see a doctor Seek emergency medical care if you have these heart disease signs and symptoms: Chest pain Shortness of breath Fainting Always call 911 or emergency medical help if you think you might be having a heart attack. Heart disease is easier to treat when detected early, so talk to your doctor about your concerns regarding your heart health. If you're concerned about developing heart disease, talk to your doctor about steps you can take to reduce your heart disease risk. This is especially important if you have a family history of heart disease. If you think you may have heart disease, based on new signs or symptoms you're having, make an appointment to see your doctor. \"},\n",
       " {'illness': 'Arthritis',\n",
       "  'img': 'https://www.mayoclinic.org/-/media/kcms/gbs/patient-consumer/images/2013/11/15/17/44/ds01122_ds00020_im03689_mcdc7_arthritis_typesthu_jpg.jpg',\n",
       "  'url': 'https://www.mayoclinic.org/diseases-conditions/arthritis/symptoms-causes/syc-20350772',\n",
       "  'symptoms': 'The most common signs and symptoms of arthritis involve the joints. Depending on the type of arthritis, signs and symptoms may include: Pain Stiffness Swelling Redness Decreased range of motion '},\n",
       " {'illness': 'High cholesterol',\n",
       "  'img': 'https://www.mayoclinic.org/-/media/kcms/gbs/patient-consumer/images/2013/11/15/17/35/ds00525_-ds01120_-ds00064_-ds00178_-ds01052_-ds00537_-ds01179_im00642_ww5r236t_jpg.jpg',\n",
       "  'url': 'https://www.mayoclinic.org/diseases-conditions/high-blood-cholesterol/symptoms-causes/syc-20350800',\n",
       "  'symptoms': \"High cholesterol has no symptoms. A blood test is the only way to detect if you have it. When to see a doctor According to the National Heart, Lung, and Blood Institute (NHLBI), a person's first cholesterol screening should occur between the ages of 9 and 11, and then be repeated every five years after that. The NHLBI recommends that cholesterol screenings occur every one to two years for men ages 45 to 65 and for women ages 55 to 65. People over 65 should receive cholesterol tests annually. If your test results aren't within desirable ranges, your doctor might recommend more-frequent measurements. Your doctor might also suggest more-frequent tests if you have a family history of high cholesterol, heart disease or other risk factors, such as diabetes or high blood pressure. \"},\n",
       " {'illness': 'High blood pressure (hypertension)',\n",
       "  'url': 'https://www.mayoclinic.org/diseases-conditions/high-blood-pressure/symptoms-causes/syc-20373410',\n",
       "  'symptoms': \"Most people with high blood pressure have no signs or symptoms, even if blood pressure readings reach dangerously high levels. A few people with high blood pressure may have headaches, shortness of breath or nosebleeds, but these signs and symptoms aren't specific and usually don't occur until high blood pressure has reached a severe or life-threatening stage. When to see a doctor You'll likely have your blood pressure taken as part of a routine doctor's appointment. Ask your doctor for a blood pressure reading at least every two years starting at age 18. If you're age 40 or older, or you're 18 to 39 with a high risk of high blood pressure, ask your doctor for a blood pressure reading every year. Blood pressure generally should be checked in both arms to determine if there's a difference. It's important to use an appropriate-sized arm cuff. Your doctor will likely recommend more-frequent readings if you've already been diagnosed with high blood pressure or have other risk factors for cardiovascular disease. Children age 3 and older will usually have blood pressure measured as a part of their yearly checkups. If you don't regularly see your doctor, you may be able to get a free blood pressure screening at a health resource fair or other locations in your community. You can also find machines in some stores that will measure your blood pressure for free. Public blood pressure machines, such as those found in pharmacies, may provide helpful information about your blood pressure, but they may have some limitations. The accuracy of these machines depends on several factors, such as a correct cuff size and proper use of the machines. Ask your doctor for advice on using public blood pressure machines. \"},\n",
       " {'illness': 'Generalized anxiety disorder',\n",
       "  'url': 'https://www.mayoclinic.org/diseases-conditions/generalized-anxiety-disorder/symptoms-causes/syc-20360803',\n",
       "  'symptoms': 'Generalized anxiety disorder symptoms can vary. They may include: Persistent worrying or anxiety about a number of areas that are out of proportion to the impact of the events Overthinking plans and solutions to all possible worst-case outcomes Perceiving situations and events as threatening, even when they aren\\'t Difficulty handling uncertainty Indecisiveness and fear of making the wrong decision Inability to set aside or let go of a worry Inability to relax, feeling restless, and feeling keyed up or on edge Difficulty concentrating, or the feeling that your mind \"goes blank\" Physical signs and symptoms may include: Fatigue Trouble sleeping Muscle tension or muscle aches Trembling, feeling twitchy Nervousness or being easily startled Sweating Nausea, diarrhea or irritable bowel syndrome Irritability There may be times when your worries don\\'t completely consume you, but you still feel anxious even when there\\'s no apparent reason. For example, you may feel intense worry about your safety or that of your loved ones, or you may have a general sense that something bad is about to happen. Your anxiety, worry or physical symptoms cause you significant distress in social, work or other areas of your life. Worries can shift from one concern to another and may change with time and age. Symptoms in children and teenagers Children and teenagers may have similar worries to adults, but also may have excessive worries about: Performance at school or sporting events Family members\\' safety Being on time (punctuality) Earthquakes, nuclear war or other catastrophic events A child or teen with excessive worry may: Feel overly anxious to fit in Be a perfectionist Redo tasks because they aren\\'t perfect the first time Spend excessive time doing homework Lack confidence Strive for approval Require a lot of reassurance about performance Have frequent stomachaches or other physical complaints Avoid going to school or avoid social situations When to see a doctor Some anxiety is normal, but see your doctor if: You feel like you\\'re worrying too much, and it\\'s interfering with your work, relationships or other parts of your life You feel depressed or irritable, have trouble with drinking or drugs, or you have other mental health concerns along with anxiety You have suicidal thoughts or behaviors — seek emergency treatment immediately Your worries are unlikely to simply go away on their own, and they may actually get worse over time. Try to seek professional help before your anxiety becomes severe — it may be easier to treat early on. '},\n",
       " {'illness': 'Shingles',\n",
       "  'img': 'https://www.mayoclinic.org/-/media/kcms/gbs/patient-consumer/images/2013/08/26/10/10/ds00098_im01000_sn7_shinglesthu_jpg.jpg',\n",
       "  'url': 'https://www.mayoclinic.org/diseases-conditions/shingles/symptoms-causes/syc-20353054',\n",
       "  'symptoms': \"Shingles Shingles Shingles Shingles is characterized by pain or a tingling sensation in a limited area on one side of the face or torso, followed by a red rash with small, fluid-filled blisters. The signs and symptoms of shingles usually affect only a small section of one side of your body. These signs and symptoms may include: Pain, burning, numbness or tingling Sensitivity to touch A red rash that begins a few days after the pain Fluid-filled blisters that break open and crust over Itching Some people also experience: Fever Headache Sensitivity to light Fatigue Pain is usually the first symptom of shingles. For some, it can be intense. Depending on the location of the pain, it can sometimes be mistaken for a symptom of problems affecting the heart, lungs or kidneys. Some people experience shingles pain without ever developing the rash. Most commonly, the shingles rash develops as a stripe of blisters that wraps around either the left or right side of your torso. Sometimes the shingles rash occurs around one eye or on one side of the neck or face. When to see a doctor Contact your doctor promptly if you suspect shingles, but especially in the following situations: The pain and rash occur near an eye. If left untreated, this infection can lead to permanent eye damage. You're 60 or older, because age significantly increases your risk of complications. You or someone in your family has a weakened immune system (due to cancer, medications or chronic illness). The rash is widespread and painful. \"},\n",
       " {'illness': 'Pink eye (conjunctivitis)',\n",
       "  'img': 'https://www.mayoclinic.org/-/media/kcms/gbs/patient-consumer/images/2013/08/26/10/33/ds00258_im02179r7_conjunctivitisthu_jpg.jpg',\n",
       "  'url': 'https://www.mayoclinic.org/diseases-conditions/pink-eye/symptoms-causes/syc-20376355',\n",
       "  'symptoms': \"The most common pink eye symptoms include: Redness in one or both eyes Itchiness in one or both eyes A gritty feeling in one or both eyes A discharge in one or both eyes that forms a crust during the night that may prevent your eye or eyes from opening in the morning Tearing When to see a doctor There are serious eye conditions that can cause eye redness. These conditions may cause eye pain, a feeling that something is stuck in your eye (foreign body sensation), blurred vision and light sensitivity. If you experience these symptoms, seek urgent care. People who wear contact lenses need to stop wearing their contacts as soon as pink eye symptoms begin. If your symptoms don't start to get better within 12 to 24 hours, make an appointment with your eye doctor to make sure you don't have a more serious eye infection related to contact lens use. \"},\n",
       " {'illness': 'Strep throat',\n",
       "  'img': 'https://www.mayoclinic.org/-/media/kcms/gbs/patient-consumer/images/2013/08/26/10/37/ds00260_id7_strepthu_jpg.jpg',\n",
       "  'url': 'https://www.mayoclinic.org/diseases-conditions/strep-throat/symptoms-causes/syc-20350338',\n",
       "  'symptoms': \"Strep throat infection Strep throat infection Strep throat infection Strep throat usually causes throat pain and difficulty swallowing. This photo of strep throat shows inflammation and red spots, caused by the infection. Signs and symptoms of strep throat can include: Throat pain that usually comes on quickly Painful swallowing Red and swollen tonsils, sometimes with white patches or streaks of pus Tiny red spots on the area at the back of the roof of the mouth (soft or hard palate) Swollen, tender lymph nodes in your neck Fever Headache Rash Nausea or vomiting, especially in younger children Body aches It's possible for you or your child to have many of these signs and symptoms but not have strep throat. The cause of these signs and symptoms could be a viral infection or some other illness. That's why your doctor generally tests specifically for strep throat. It's also possible for you to be exposed to a person who carries strep but shows no symptoms. When to see a doctor Call your doctor if you or your child has any of these signs and symptoms: A sore throat accompanied by tender, swollen lymph glands A sore throat that lasts longer than 48 hours A fever A sore throat accompanied by a rash Problems breathing or swallowing If strep has been diagnosed, a lack of improvement after taking antibiotics for 48 hours \"},\n",
       " {'illness': 'Coronavirus disease 2019 (COVID-19)',\n",
       "  'img': 'https://www.mayoclinic.org/-/media/kcms/gbs/patient-consumer/images/2020/02/12/16/17/coronovirus-8col.jpg',\n",
       "  'url': 'https://www.mayoclinic.org/diseases-conditions/coronavirus/symptoms-causes/syc-20479963',\n",
       "  'symptoms': \"Signs and symptoms of coronavirus disease 2019 (COVID-19) may appear 2 to 14 days after exposure. This time after exposure and before having symptoms is called the incubation period. You can still spread COVID-19 before you have symptoms (presymptomatic transmission). Common signs and symptoms can include: Fever Cough Tiredness Early symptoms of COVID-19 may include a loss of taste or smell. Other symptoms can include: Shortness of breath or difficulty breathing Muscle aches Chills Sore throat Runny nose Headache Chest pain Pink eye (conjunctivitis) Nausea Vomiting Diarrhea Rash This list isn't complete. Children have similar symptoms to adults and generally have mild illness. The severity of COVID-19 symptoms can range from very mild to severe. Some people may have only a few symptoms. Some people may have no symptoms at all, but can still spread it (asymptomatic transmission). Some people may experience worsened symptoms, such as worsened shortness of breath and pneumonia, about a week after symptoms start. Some people experience COVID-19 symptoms for more than four weeks after they're diagnosed. These health issues are sometimes called post- COVID-19 conditions. Some children experience multisystem inflammatory syndrome, a syndrome that can affect some organs and tissues, several weeks after having COVID-19. Rarely, some adults experience the syndrome too. People who are older have a higher risk of serious illness from COVID-19, and the risk increases with age. People who have existing medical conditions also may have a higher risk of serious illness. Certain medical conditions that may increase the risk of serious illness from COVID-19 include: Serious heart diseases, such as heart failure, coronary artery disease or cardiomyopathy Cancer Chronic obstructive pulmonary disease (COPD) Type 1 or type 2 diabetes Overweight, obesity or severe obesity High blood pressure Smoking Chronic kidney disease Sickle cell disease or thalassemia Weakened immune system from solid organ transplants or bone marrow transplants Pregnancy Asthma Chronic lung diseases such as cystic fibrosis or pulmonary hypertension Liver disease Dementia Down syndrome Weakened immune system from bone marrow transplant, HIV or some medications Brain and nervous system conditions, such as strokes Substance use disorders This list is not complete. Other medical conditions may increase your risk of serious illness from COVID-19. COVID-19 self-checker Assess your symptoms on CDC’s coronavirus self-checker tool and find out if you’re a candidate for a COVID-19 test. When to see a doctor If you have COVID-19 signs or symptoms or you've been in contact with someone diagnosed with COVID-19, contact your health care provider right away for medical advice. Your health care provider will likely recommend that you get tested for COVID-19. If you have emergency COVID-19 symptoms, such as trouble breathing, seek care immediately. If you need to go to a hospital, call ahead so that health care providers can take steps to ensure that others aren't exposed. If you have emergency COVID-19 signs and symptoms, seek care immediately. Emergency signs and symptoms can include: Trouble breathing Persistent chest pain or pressure Inability to stay awake New confusion Pale, gray or blue-colored skin, lips or nail beds — depending on skin tone This list isn't complete. Let your health care provider know if you are an older adult or have chronic medical conditions, such as heart disease or lung disease, as you may have a greater risk of becoming seriously ill with COVID-19. \"},\n",
       " {'illness': 'Chickenpox',\n",
       "  'img': 'https://www.mayoclinic.org/-/media/kcms/gbs/patient-consumer/images/2021/05/04/22/11/chickenpox-8col-ss-1306371631.jpg',\n",
       "  'url': 'https://www.mayoclinic.org/diseases-conditions/chickenpox/symptoms-causes/syc-20351282',\n",
       "  'symptoms': 'The itchy blister rash caused by chickenpox infection appears 10 to 21 days after exposure to the virus and usually lasts about five to 10 days. Other signs and symptoms, which may appear one to two days before the rash, include: Fever Loss of appetite Headache Tiredness and a general feeling of being unwell (malaise) Once the chickenpox rash appears, it goes through three phases: Raised pink or red bumps (papules), which break out over several days Small fluid-filled blisters (vesicles), which form in about one day and then break and leak Crusts and scabs, which cover the broken blisters and take several more days to heal New bumps continue to appear for several days, so you may have all three stages of the rash — bumps, blisters and scabbed lesions — at the same time. You can spread the virus to other people for up to 48 hours before the rash appears, and the virus remains contagious until all broken blisters have crusted over. The disease is generally mild in healthy children. In severe cases, the rash can cover the entire body, and lesions may form in the throat, eyes, and mucous membranes of the urethra, anus and vagina. When to see a doctor If you think you or your child might have chickenpox, consult your doctor. He or she usually can diagnose chickenpox by examining the rash and considering other symptoms. Your doctor can also prescribe medications to lessen the severity of chickenpox and treat complications, if necessary. To avoid infecting others in the waiting room, call ahead for an appointment and mention that you think you or your child may have chickenpox. Also, let your doctor know if: The rash spreads to one or both eyes. The rash gets very red, warm or tender. This could indicate a secondary bacterial skin infection. The rash is accompanied by dizziness, disorientation, rapid heartbeat, shortness of breath, tremors, loss of muscle coordination, worsening cough, vomiting, stiff neck or a fever higher than 102 F (38.9 C). Anyone in the household has a problem with his or her immune system or is younger than 6 months. '},\n",
       " {'illness': 'Viral gastroenteritis (stomach flu)',\n",
       "  'img': 'https://www.mayoclinic.org/-/media/kcms/gbs/patient-consumer/images/2013/08/26/10/51/mcdc7_viral_gastroenteritisthu_jpg.jpg',\n",
       "  'url': 'https://www.mayoclinic.org/diseases-conditions/viral-gastroenteritis/symptoms-causes/syc-20378847',\n",
       "  'symptoms': \"Viral gastroenteritis Viral gastroenteritis Viral gastroenteritis The stomach, small intestine and large intestine (colon) are part of your digestive tract, which processes the foods you eat. Viral gastroenteritis is an inflammation of these organs caused by a virus. Although it's commonly called stomach flu, gastroenteritis isn't the same as influenza. The flu (influenza) affects only your respiratory system — your nose, throat and lungs. Gastroenteritis, on the other hand, attacks your intestines, causing signs and symptoms such as: Watery, usually nonbloody diarrhea — bloody diarrhea usually means you have a different, more severe infection Nausea, vomiting or both Stomach cramps and pain Occasional muscle aches or headache Low-grade fever Depending on the cause, viral gastroenteritis symptoms may appear within 1-3 days after you're infected and can range from mild to severe. Symptoms usually last just a day or two, but occasionally they may last up to 14 days. Because the symptoms are similar, it's easy to confuse viral diarrhea with diarrhea caused by bacteria, such as Clostridioides difficile, salmonella and Escherichia coli, or parasites, such as giardia. When to see a doctor If you're an adult, call your health care provider if: You're not able to keep liquids down for 24 hours You've been vomiting or having diarrhea for more than two days You're vomiting blood You're dehydrated — signs of dehydration include excessive thirst, dry mouth, deep yellow urine or little or no urine, and severe weakness, dizziness or lightheadedness You notice blood in your bowel movements You have severe stomach pain You have a fever above 104 F (40 C) For infants and children See your child's health care provider right away if your child: Has a fever of 102 F (38.9 C) or higher Seems tired or very irritable Is in a lot of discomfort or pain Has bloody diarrhea Seems dehydrated — watch for signs of dehydration in sick infants and children by comparing how much they drink and urinate with how much is normal for them, and watching for signs such as a dry mouth, thirst and crying without tears If you have an infant, remember that while spitting up may be an everyday occurrence for your baby, vomiting is not. Babies vomit for a variety of reasons, many of which may require medical attention. Call your baby's doctor right away if your baby: Has vomiting that is frequent Hasn't had a wet diaper in six hours Has bloody stools or severe diarrhea Has a sunken soft spot (fontanel) on the top of his or her head Has a dry mouth or cries without tears Is unusually sleepy, drowsy or unresponsive \"},\n",
       " {'illness': 'Pneumonia',\n",
       "  'img': 'https://www.mayoclinic.org/-/media/kcms/gbs/patient-consumer/images/2016/05/18/13/02/ww5r032t-8col-jpg.jpg',\n",
       "  'url': 'https://www.mayoclinic.org/diseases-conditions/pneumonia/symptoms-causes/syc-20354204',\n",
       "  'symptoms': \"The signs and symptoms of pneumonia vary from mild to severe, depending on factors such as the type of germ causing the infection, and your age and overall health. Mild signs and symptoms often are similar to those of a cold or flu, but they last longer. Signs and symptoms of pneumonia may include: Chest pain when you breathe or cough Confusion or changes in mental awareness (in adults age 65 and older) Cough, which may produce phlegm Fatigue Fever, sweating and shaking chills Lower than normal body temperature (in adults older than age 65 and people with weak immune systems) Nausea, vomiting or diarrhea Shortness of breath Newborns and infants may not show any sign of the infection. Or they may vomit, have a fever and cough, appear restless or tired and without energy, or have difficulty breathing and eating. When to see a doctor See your doctor if you have difficulty breathing, chest pain, persistent fever of 102 F (39 C) or higher, or persistent cough, especially if you're coughing up pus. It's especially important that people in these high-risk groups see a doctor: Adults older than age 65 Children younger than age 2 with signs and symptoms People with an underlying health condition or weakened immune system People receiving chemotherapy or taking medication that suppresses the immune system For some older adults and people with heart failure or chronic lung problems, pneumonia can quickly become a life-threatening condition. \"},\n",
       " {'illness': 'Common cold',\n",
       "  'url': 'https://www.mayoclinic.org/diseases-conditions/common-cold/symptoms-causes/syc-20351605',\n",
       "  'symptoms': \"Symptoms of a common cold usually appear one to three days after exposure to a cold-causing virus. Signs and symptoms, which can vary from person to person, might include: Runny or stuffy nose Sore throat Cough Congestion Slight body aches or a mild headache Sneezing Low-grade fever Generally feeling unwell The discharge from your nose may start out clear and become thicker and yellow or green as a common cold runs its course. This doesn't usually mean you have a bacterial infection. When to see a doctor For adults — generally, you don't need medical attention for a common cold. However, seek medical attention if you have: Symptoms that worsen or fail to improve Fever greater than 101.3 F (38.5 C) lasting more than three days Fever returning after a fever-free period Shortness of breath Wheezing Severe sore throat, headache or sinus pain For children — in general, your child doesn't need to see his or her doctor for a common cold. But seek medical attention right away if your child has any of the following: Fever of 100.4 F (38 C) in newborns up to 12 weeks Rising fever or fever lasting more than two days in a child of any age Severe symptoms, such as headache, throat pain or cough Difficulty breathing or wheezing Ear pain Extreme fussiness Unusual drowsiness Lack of appetite \"},\n",
       " {'illness': 'Epilepsy',\n",
       "  'url': 'https://www.mayoclinic.org/diseases-conditions/epilepsy/symptoms-causes/syc-20350093',\n",
       "  'symptoms': \"Because epilepsy is caused by abnormal activity in the brain, seizures can affect any process your brain coordinates. Seizure signs and symptoms may include: Temporary confusion A staring spell Stiff muscles Uncontrollable jerking movements of the arms and legs Loss of consciousness or awareness Psychological symptoms such as fear, anxiety or deja vu Symptoms vary depending on the type of seizure. In most cases, a person with epilepsy will tend to have the same type of seizure each time, so the symptoms will be similar from episode to episode. Doctors generally classify seizures as either focal or generalized, based on how and where the abnormal brain activity begins. Focal seizures When seizures appear to result from abnormal activity in just one area of your brain, they're called focal seizures. These seizures fall into two categories: Focal seizures without loss of consciousness. Once called simple partial seizures, these seizures don't cause a loss of consciousness. They may alter emotions or change the way things look, smell, feel, taste or sound. Some people experience deja vu. This type of seizure may also result in involuntary jerking of one body part, such as an arm or leg, and spontaneous sensory symptoms such as tingling, dizziness and flashing lights. Focal seizures with impaired awareness. Once called complex partial seizures, these seizures involve a change or loss of consciousness or awareness. This type of seizure may seem like being in a dream. During a focal seizure with impaired awareness, you may stare into space and not respond normally to your environment or perform repetitive movements, such as hand rubbing, chewing, swallowing or walking in circles. Symptoms of focal seizures may be confused with other neurological disorders, such as migraine, narcolepsy or mental illness. A thorough examination and testing are needed to distinguish epilepsy from other disorders. Generalized seizures Seizures that appear to involve all areas of the brain are called generalized seizures. Six types of generalized seizures exist. Absence seizures. Absence seizures, previously known as petit mal seizures, typically occur in children. They're characterized by staring into space with or without subtle body movements such as eye blinking or lip smacking and only last between 5-10 seconds. These seizures may occur in clusters, happening as often as 100 times per day, and cause a brief loss of awareness. Tonic seizures. Tonic seizures cause stiff muscles and may affect consciousness. These seizures usually affect muscles in your back, arms and legs and may cause you to fall to the ground. Atonic seizures. Atonic seizures, also known as drop seizures, cause a loss of muscle control. Since this most often affects the legs, it often causes you to suddenly collapse or fall down. Clonic seizures. Clonic seizures are associated with repeated or rhythmic, jerking muscle movements. These seizures usually affect the neck, face and arms. Myoclonic seizures. Myoclonic seizures usually appear as sudden brief jerks or twitches and usually affect the upper body, arms and legs. Tonic-clonic seizures. Tonic-clonic seizures, previously known as grand mal seizures, are the most dramatic type of epileptic seizure. They can cause an abrupt loss of consciousness and body stiffening, twitching and shaking. They sometimes cause loss of bladder control or biting your tongue. When to see a doctor Seek immediate medical help if any of the following occurs: The seizure lasts more than five minutes. Breathing or consciousness doesn't return after the seizure stops. A second seizure follows immediately. You have a high fever. You're pregnant. You have diabetes. You've injured yourself during the seizure. You continue to have seizures even though you've been taking anti-seizure medication. If you experience a seizure for the first time, seek medical advice. \"}]"
      ]
     },
     "execution_count": 18,
     "metadata": {},
     "output_type": "execute_result"
    }
   ],
   "source": [
    "top10_symptoms"
   ]
  },
  {
   "cell_type": "code",
   "execution_count": 19,
   "metadata": {},
   "outputs": [
    {
     "data": {
      "text/plain": [
       "20"
      ]
     },
     "execution_count": 19,
     "metadata": {},
     "output_type": "execute_result"
    }
   ],
   "source": [
    "len(top10_symptoms)"
   ]
  },
  {
   "cell_type": "code",
   "execution_count": 20,
   "metadata": {},
   "outputs": [],
   "source": [
    "import json\n",
    "\n",
    "with open('common_illness.json', 'w') as data:\n",
    "    json.dump(top10_symptoms, data)"
   ]
  },
  {
   "cell_type": "code",
   "execution_count": null,
   "metadata": {},
   "outputs": [],
   "source": []
  },
  {
   "cell_type": "code",
   "execution_count": null,
   "metadata": {},
   "outputs": [],
   "source": []
  },
  {
   "cell_type": "code",
   "execution_count": null,
   "metadata": {},
   "outputs": [],
   "source": []
  },
  {
   "cell_type": "code",
   "execution_count": null,
   "metadata": {},
   "outputs": [],
   "source": []
  },
  {
   "cell_type": "code",
   "execution_count": null,
   "metadata": {},
   "outputs": [],
   "source": []
  },
  {
   "cell_type": "code",
   "execution_count": null,
   "metadata": {},
   "outputs": [],
   "source": []
  },
  {
   "cell_type": "code",
   "execution_count": null,
   "metadata": {},
   "outputs": [],
   "source": []
  },
  {
   "cell_type": "code",
   "execution_count": 12,
   "metadata": {},
   "outputs": [
    {
     "ename": "AttributeError",
     "evalue": "'NoneType' object has no attribute 'find_all'",
     "output_type": "error",
     "traceback": [
      "\u001b[1;31m---------------------------------------------------------------------------\u001b[0m",
      "\u001b[1;31mAttributeError\u001b[0m                            Traceback (most recent call last)",
      "\u001b[1;32m<ipython-input-12-1882c263dbc7>\u001b[0m in \u001b[0;36m<module>\u001b[1;34m\u001b[0m\n\u001b[1;32m----> 1\u001b[1;33m \u001b[0mtest\u001b[0m \u001b[1;33m=\u001b[0m \u001b[0mget_symptoms\u001b[0m\u001b[1;33m(\u001b[0m\u001b[1;34m\"https://www.mayoclinic.org/diseases-conditions/tricuspid-valve-disease/symptoms-causes/syc-20350609\"\u001b[0m\u001b[1;33m)\u001b[0m\u001b[1;33m\u001b[0m\u001b[1;33m\u001b[0m\u001b[0m\n\u001b[0m",
      "\u001b[1;32m<ipython-input-6-e5a40e699d2d>\u001b[0m in \u001b[0;36mget_symptoms\u001b[1;34m(URL)\u001b[0m\n\u001b[0;32m     10\u001b[0m \u001b[1;31m#     content = content.find('h2').previous_element.previous_element.previous_element\u001b[0m\u001b[1;33m\u001b[0m\u001b[1;33m\u001b[0m\u001b[1;33m\u001b[0m\u001b[0m\n\u001b[0;32m     11\u001b[0m \u001b[1;33m\u001b[0m\u001b[0m\n\u001b[1;32m---> 12\u001b[1;33m     \u001b[0mh2_list\u001b[0m \u001b[1;33m=\u001b[0m \u001b[0mcontent\u001b[0m\u001b[1;33m.\u001b[0m\u001b[0mfind_all\u001b[0m\u001b[1;33m(\u001b[0m\u001b[1;34m'h2'\u001b[0m\u001b[1;33m)\u001b[0m\u001b[1;33m\u001b[0m\u001b[1;33m\u001b[0m\u001b[0m\n\u001b[0m\u001b[0;32m     13\u001b[0m \u001b[1;33m\u001b[0m\u001b[0m\n\u001b[0;32m     14\u001b[0m     \u001b[0msymp_index\u001b[0m \u001b[1;33m=\u001b[0m \u001b[1;33m-\u001b[0m\u001b[1;36m1\u001b[0m\u001b[1;33m\u001b[0m\u001b[1;33m\u001b[0m\u001b[0m\n",
      "\u001b[1;31mAttributeError\u001b[0m: 'NoneType' object has no attribute 'find_all'"
     ]
    }
   ],
   "source": [
    "test = get_symptoms(\"https://www.mayoclinic.org/diseases-conditions/tricuspid-valve-disease/symptoms-causes/syc-20350609\")"
   ]
  },
  {
   "cell_type": "code",
   "execution_count": 10,
   "metadata": {},
   "outputs": [
    {
     "data": {
      "text/plain": [
       "{'illness': 'Mosquito bites',\n",
       " 'symptoms': 'Mosquito bite signs include: A puffy, white and reddish bump that appears a few minutes after the bite A hard, itchy, reddish-brown bump, or multiple bumps, appearing a day or so after the bite or bites Small blisters instead of hard bumps Dark spots that look like bruises More-severe reactions may be experienced by children, adults not previously exposed to the type of mosquito that bit them, and people with immune system disorders. In these people, mosquito bites sometimes trigger: A large area of swelling and redness Low-grade fever Hives Swollen lymph nodes Children are more likely to develop a severe reaction than are adults, because many adults have had mosquito bites throughout their lives and become desensitized. When to see a doctor If mosquito bites seem to be associated with more-serious warning signs — such as fever, headache, body aches and signs of infection — contact your doctor. Request an Appointment at Mayo Clinic '}"
      ]
     },
     "execution_count": 10,
     "metadata": {},
     "output_type": "execute_result"
    }
   ],
   "source": [
    "test"
   ]
  },
  {
   "cell_type": "code",
   "execution_count": null,
   "metadata": {},
   "outputs": [],
   "source": []
  },
  {
   "cell_type": "code",
   "execution_count": null,
   "metadata": {},
   "outputs": [],
   "source": []
  },
  {
   "cell_type": "code",
   "execution_count": null,
   "metadata": {},
   "outputs": [],
   "source": []
  },
  {
   "cell_type": "code",
   "execution_count": null,
   "metadata": {},
   "outputs": [],
   "source": []
  },
  {
   "cell_type": "code",
   "execution_count": null,
   "metadata": {},
   "outputs": [],
   "source": []
  },
  {
   "cell_type": "code",
   "execution_count": null,
   "metadata": {},
   "outputs": [],
   "source": []
  },
  {
   "cell_type": "code",
   "execution_count": null,
   "metadata": {},
   "outputs": [],
   "source": []
  },
  {
   "cell_type": "code",
   "execution_count": null,
   "metadata": {},
   "outputs": [],
   "source": []
  }
 ],
 "metadata": {
  "kernelspec": {
   "display_name": "Python 3",
   "language": "python",
   "name": "python3"
  },
  "language_info": {
   "codemirror_mode": {
    "name": "ipython",
    "version": 3
   },
   "file_extension": ".py",
   "mimetype": "text/x-python",
   "name": "python",
   "nbconvert_exporter": "python",
   "pygments_lexer": "ipython3",
   "version": "3.7.7"
  }
 },
 "nbformat": 4,
 "nbformat_minor": 4
}
