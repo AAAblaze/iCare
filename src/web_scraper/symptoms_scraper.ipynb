{
 "cells": [
  {
   "cell_type": "code",
   "execution_count": 2,
   "metadata": {},
   "outputs": [],
   "source": [
    "import requests\n",
    "import bs4\n",
    "from bs4 import BeautifulSoup"
   ]
  },
  {
   "cell_type": "code",
   "execution_count": 3,
   "metadata": {},
   "outputs": [],
   "source": [
    "def get_symptoms(URL):\n",
    "    r = requests.get(URL)\n",
    "\n",
    "    soup = BeautifulSoup(r.content, 'html5lib') # If this line causes an error, run 'pip install html5lib' or install html5lib\n",
    "#     print(soup.prettify())\n",
    "\n",
    "    name = soup.find('h1').get_text()\n",
    "    \n",
    "    content = soup.find('div', class_='content')\n",
    "#     content = content.find('h2').previous_element.previous_element.previous_element\n",
    "    \n",
    "    h2_list = content.find_all('h2')\n",
    "    \n",
    "    symp_index = -1\n",
    "    for i in range(len(h2_list)):\n",
    "        if h2_list[i].get_text() == 'Symptoms':\n",
    "            symp_index = i\n",
    "            break\n",
    "\n",
    "    if symp_index == -1:\n",
    "        return {}\n",
    "    else:\n",
    "        visually_hidden = content.find_all(\"span\", {\"class\": \"myc-visuallyhidden\"})\n",
    "        weird_error = content.find_all(\"p\", {\"class\": \"myc-error-header\"})\n",
    "        form_error = [\"myc-subscription-form\", \"acces-list-container\", \"requestappt\"]\n",
    "        \n",
    "        h2_index = symp_index\n",
    "        element = h2_list[h2_index]\n",
    "\n",
    "        parser_dict = {}\n",
    "        parser_dict['illness'] = name\n",
    "        \n",
    "        images = content.find_all(\"img\")\n",
    "        \n",
    "        if len(images) > 0:\n",
    "            parser_dict['img'] = \"https://www.mayoclinic.org\" + images[0]['src']\n",
    "        \n",
    "        parser_dict['url'] = URL\n",
    "        \n",
    "        section_str = \"\"\n",
    "        form_str = \"\"\n",
    "        \n",
    "        form = False\n",
    "\n",
    "        while h2_index == symp_index:\n",
    "            element = element.next_element\n",
    "            if element == h2_list[h2_index + 1]:\n",
    "                parser_dict[h2_list[h2_index].get_text().lower()] = section_str.replace(\"  \", \" \").replace(\" , \", \", \").replace(\" . \", \". \")\n",
    "                h2_index += 1\n",
    "                section_str = ''\n",
    "                \n",
    "                form = False\n",
    "\n",
    "        #         if element.get_text() == '':\n",
    "        #             empty_header = True\n",
    "\n",
    "            elif isinstance(element, bs4.element.NavigableString):\n",
    "                if not isinstance(element, bs4.element.Comment):\n",
    "                    if (element != h2_list[h2_index].get_text()):\n",
    "                        if not element.isspace():\n",
    "                            if form:\n",
    "                                form_str += element\n",
    "                            else:\n",
    "                                section_str += element.strip() + ' '\n",
    "\n",
    "            elif element in visually_hidden:\n",
    "                element = element.next_element\n",
    "#                 print('Got one!')\n",
    "\n",
    "            elif element in weird_error:\n",
    "                element = element.next_element\n",
    "#                 print('Oh!')\n",
    "            \n",
    "            elif isinstance(element, bs4.element.Tag):\n",
    "                if element.name == \"style\":\n",
    "                    element = element.next_element\n",
    "                elif element.name == \"div\" and element.has_attr(\"class\"):\n",
    "                    if any(item in form_error for item in element[\"class\"]):\n",
    "                        form = True\n",
    "            \n",
    "                \n",
    "        return parser_dict"
   ]
  },
  {
   "cell_type": "code",
   "execution_count": 1,
   "metadata": {},
   "outputs": [],
   "source": [
    "URLS = []\n",
    "with open('top_10.txt', mode='r') as top10:\n",
    "    for illness in top10:\n",
    "        URLS.append(illness.strip())"
   ]
  },
  {
   "cell_type": "code",
   "execution_count": 4,
   "metadata": {},
   "outputs": [],
   "source": [
    "top10_symptoms = []\n",
    "for URL in URLS:\n",
    "    top10_symptoms.append(get_symptoms(URL))"
   ]
  },
  {
   "cell_type": "code",
   "execution_count": 6,
   "metadata": {},
   "outputs": [
    {
     "data": {
      "text/plain": [
       "[{'illness': 'Atrial fibrillation',\n",
       "  'img': 'https://www.mayoclinic.org/-/media/kcms/gbs/patient-consumer/images/2014/07/07/14/43/mcdc11_heartforafib.jpg',\n",
       "  'url': 'https://www.mayoclinic.org/diseases-conditions/atrial-fibrillation/symptoms-causes/syc-20350624',\n",
       "  'symptoms': \"Some people with atrial fibrillation (A-fib) don't notice any symptoms. Those who do have atrial fibrillation symptoms may have signs and symptoms such as: Sensations of a fast, fluttering or pounding heartbeat (palpitations) Chest pain Dizziness Fatigue Lightheadedness Reduced ability to exercise Shortness of breath Weakness Atrial fibrillation may be: Occasional (paroxysmal atrial fibrillation). A-fib symptoms come and go, usually lasting for a few minutes to hours. Sometimes symptoms occur for as long as a week and episodes can happen repeatedly. Symptoms might go away on their own. Some people with occasional A-fib need treatment. Persistent. With this type of atrial fibrillation, the heart rhythm doesn't go back to normal on its own. If a person has A-fib symptoms, cardioversion or treatment with medications may be used to restore and maintain a normal heart rhythm. Long-standing persistent. This type of atrial fibrillation is continuous and lasts longer than 12 months. Permanent. In this type of atrial fibrillation, the irregular heart rhythm can't be restored. Medications are needed to control the heart rate and to prevent blood clots. When to see a doctor If you have any signs or symptoms of atrial fibrillation, make an appointment with your doctor. If you have chest pain, seek immediate medical help. Chest pain could mean that you're having a heart attack. \"},\n",
       " {'illness': 'COPD',\n",
       "  'img': 'https://www.mayoclinic.org/-/media/kcms/gbs/patient-consumer/images/2013/11/15/17/40/ds00916_-ds00296_im04560_mcdc7_emphysemathu_jpg.jpg',\n",
       "  'url': 'https://www.mayoclinic.org/diseases-conditions/copd/symptoms-causes/syc-20353679',\n",
       "  'symptoms': \"COPD symptoms often don't appear until significant lung damage has occurred, and they usually worsen over time, particularly if smoking exposure continues. Signs and symptoms of COPD may include: Shortness of breath, especially during physical activities Wheezing Chest tightness A chronic cough that may produce mucus (sputum) that may be clear, white, yellow or greenish Frequent respiratory infections Lack of energy Unintended weight loss (in later stages) Swelling in ankles, feet or legs People with COPD are also likely to experience episodes called exacerbations, during which their symptoms become worse than the usual day-to-day variation and persist for at least several days. When to see a doctor Talk to your doctor if your symptoms are not improving with treatment or getting worse, or if you notice symptoms of an infection, such as fever or a change in sputum. Seek immediate medical care if you can't catch your breath, if you experience severe blueness of your lips or fingernail beds (cyanosis) or a rapid heartbeat, or if you feel foggy and have trouble concentrating. \"},\n",
       " {'illness': \"Alzheimer's disease\",\n",
       "  'url': 'https://www.mayoclinic.org/diseases-conditions/alzheimers-disease/symptoms-causes/syc-20350447',\n",
       "  'symptoms': \"Memory loss is the key symptom of Alzheimer's disease. Early signs include difficulty remembering recent events or conversations. As the disease progresses, memory impairments worsen and other symptoms develop. At first, a person with Alzheimer's disease may be aware of having difficulty remembering things and organizing thoughts. A family member or friend may be more likely to notice how the symptoms worsen. Brain changes associated with Alzheimer's disease lead to growing trouble with: Memory Everyone has occasional memory lapses, but the memory loss associated with Alzheimer's disease persists and worsens, affecting the ability to function at work or at home. People with Alzheimer's may: Repeat statements and questions over and over Forget conversations, appointments or events, and not remember them later Routinely misplace possessions, often putting them in illogical locations Get lost in familiar places Eventually forget the names of family members and everyday objects Have trouble finding the right words to identify objects, express thoughts or take part in conversations Thinking and reasoning Alzheimer's disease causes difficulty concentrating and thinking, especially about abstract concepts such as numbers. Multitasking is especially difficult, and it may be challenging to manage finances, balance checkbooks and pay bills on time. Eventually, a person with Alzheimer's may be unable to recognize and deal with numbers. Making judgments and decisions Alzheimer's causes a decline in the ability to make reasonable decisions and judgments in everyday situations. For example, a person may make poor or uncharacteristic choices in social interactions or wear clothes that are inappropriate for the weather. It may be more difficult to respond effectively to everyday problems, such as food burning on the stove or unexpected driving situations. Planning and performing familiar tasks Once-routine activities that require sequential steps, such as planning and cooking a meal or playing a favorite game, become a struggle as the disease progresses. Eventually, people with advanced Alzheimer's often forget how to perform basic tasks such as dressing and bathing. Changes in personality and behavior Brain changes that occur in Alzheimer's disease can affect moods and behaviors. Problems may include the following: Depression Apathy Social withdrawal Mood swings Distrust in others Irritability and aggressiveness Changes in sleeping habits Wandering Loss of inhibitions Delusions, such as believing something has been stolen Preserved skills Many important skills are preserved for longer periods even while symptoms worsen. Preserved skills may include reading or listening to books, telling stories and reminiscing, singing, listening to music, dancing, drawing, or doing crafts. These skills may be preserved longer because they are controlled by parts of the brain affected later in the course of the disease. When to see a doctor A number of conditions, including treatable conditions, can result in memory loss or other dementia symptoms. If you are concerned about your memory or other thinking skills, talk to your doctor for a thorough assessment and diagnosis. If you are concerned about thinking skills you observe in a family member or friend, talk about your concerns and ask about going together to a doctor's appointment. \"},\n",
       " {'illness': 'Depression (major depressive disorder)',\n",
       "  'url': 'https://www.mayoclinic.org/diseases-conditions/depression/symptoms-causes/syc-20356007',\n",
       "  'symptoms': 'Although depression may occur only once during your life, people typically have multiple episodes. During these episodes, symptoms occur most of the day, nearly every day and may include: Feelings of sadness, tearfulness, emptiness or hopelessness Angry outbursts, irritability or frustration, even over small matters Loss of interest or pleasure in most or all normal activities, such as sex, hobbies or sports Sleep disturbances, including insomnia or sleeping too much Tiredness and lack of energy, so even small tasks take extra effort Reduced appetite and weight loss or increased cravings for food and weight gain Anxiety, agitation or restlessness Slowed thinking, speaking or body movements Feelings of worthlessness or guilt, fixating on past failures or self-blame Trouble thinking, concentrating, making decisions and remembering things Frequent or recurrent thoughts of death, suicidal thoughts, suicide attempts or suicide Unexplained physical problems, such as back pain or headaches For many people with depression, symptoms usually are severe enough to cause noticeable problems in day-to-day activities, such as work, school, social activities or relationships with others. Some people may feel generally miserable or unhappy without really knowing why. Depression symptoms in children and teens Common signs and symptoms of depression in children and teenagers are similar to those of adults, but there can be some differences. In younger children, symptoms of depression may include sadness, irritability, clinginess, worry, aches and pains, refusing to go to school, or being underweight. In teens, symptoms may include sadness, irritability, feeling negative and worthless, anger, poor performance or poor attendance at school, feeling misunderstood and extremely sensitive, using recreational drugs or alcohol, eating or sleeping too much, self-harm, loss of interest in normal activities, and avoidance of social interaction. Depression symptoms in older adults Depression is not a normal part of growing older, and it should never be taken lightly. Unfortunately, depression often goes undiagnosed and untreated in older adults, and they may feel reluctant to seek help. Symptoms of depression may be different or less obvious in older adults, such as: Memory difficulties or personality changes Physical aches or pain Fatigue, loss of appetite, sleep problems or loss of interest in sex — not caused by a medical condition or medication Often wanting to stay at home, rather than going out to socialize or doing new things Suicidal thinking or feelings, especially in older men When to see a doctor If you feel depressed, make an appointment to see your doctor or mental health professional as soon as you can. If you\\'re reluctant to seek treatment, talk to a friend or loved one, any health care professional, a faith leader, or someone else you trust. When to get emergency help If you think you may hurt yourself or attempt suicide, call 911 or your local emergency number immediately. Also consider these options if you\\'re having suicidal thoughts: Call your doctor or mental health professional. Call a suicide hotline number — in the U.S., call the National Suicide Prevention Lifeline at 1-800-273-TALK (1-800-273-8255). Use that same number and press \"1\" to reach the Veterans Crisis Line. Reach out to a close friend or loved one. Contact a minister, spiritual leader or someone else in your faith community. If you have a loved one who is in danger of suicide or has made a suicide attempt, make sure someone stays with that person. Call 911 or your local emergency number immediately. Or, if you think you can do so safely, take the person to the nearest hospital emergency room. '},\n",
       " {'illness': 'Heart failure',\n",
       "  'img': 'https://www.mayoclinic.org/-/media/kcms/gbs/patient-consumer/images/2015/01/16/09/27/mcdc7_heart-failure.jpg',\n",
       "  'url': 'https://www.mayoclinic.org/diseases-conditions/heart-failure/symptoms-causes/syc-20373142',\n",
       "  'symptoms': \"Heart failure Heart failure Heart failure Heart failure occurs when the heart muscle doesn't pump blood as well as it should. Blood often backs up and causes fluid to build up in the lungs (congest) and in the legs. The fluid buildup can cause shortness of breath and swelling of the legs and feet. Poor blood flow may cause the skin to appear blue (cyanotic). Some types of heart failure can lead to an enlarged heart. Heart failure can be ongoing (chronic), or it may start suddenly (acute). Heart failure signs and symptoms may include: Shortness of breath with activity or when lying down Fatigue and weakness Swelling in the legs, ankles and feet Rapid or irregular heartbeat Reduced ability to exercise Persistent cough or wheezing with white or pink blood-tinged mucus Swelling of the belly area (abdomen) Very rapid weight gain from fluid buildup Nausea and lack of appetite Difficulty concentrating or decreased alertness Chest pain if heart failure is caused by a heart attack When to see a doctor See your doctor if you think you might be experiencing signs or symptoms of heart failure. Call 911 or emergency medical help if you have any of the following: Chest pain Fainting or severe weakness Rapid or irregular heartbeat associated with shortness of breath, chest pain or fainting Sudden, severe shortness of breath and coughing up white or pink, foamy mucus Although these signs and symptoms may be due to heart failure, there are many other possible causes, including other life-threatening heart and lung conditions. Don't try to diagnose yourself. Emergency room doctors will try to stabilize your condition and determine if your symptoms are due to heart failure or something else. If you have a diagnosis of heart failure and if any of the symptoms suddenly become worse or you develop a new sign or symptom, it may mean that existing heart failure is getting worse or not responding to treatment. This may also be the case if you gain 5 pounds (2.3 kilograms) or more within a few days. Contact your doctor promptly. \"},\n",
       " {'illness': 'Chronic kidney disease',\n",
       "  'img': 'https://www.mayoclinic.org/-/media/kcms/gbs/patient-consumer/images/2016/06/08/06/mcdc7_diseased_kidney-8col.jpg',\n",
       "  'url': 'https://www.mayoclinic.org/diseases-conditions/chronic-kidney-disease/symptoms-causes/syc-20354521',\n",
       "  'symptoms': \"Signs and symptoms of chronic kidney disease develop over time if kidney damage progresses slowly. Loss of kidney function can cause a buildup of fluid or body waste or electrolyte problems. Depending on how severe it is, loss of kidney function can cause: Nausea Vomiting Loss of appetite Fatigue and weakness Sleep problems Urinating more or less Decreased mental sharpness Muscle cramps Swelling of feet and ankles Dry, itchy skin High blood pressure (hypertension) that's difficult to control Shortness of breath, if fluid builds up in the lungs Chest pain, if fluid builds up around the lining of the heart Signs and symptoms of kidney disease are often nonspecific. This means they can also be caused by other illnesses. Because your kidneys are able to make up for lost function, you might not develop signs and symptoms until irreversible damage has occurred. When to see a doctor Make an appointment with your doctor if you have signs or symptoms of kidney disease. Early detection might help prevent kidney disease from progressing to kidney failure. If you have a medical condition that increases your risk of kidney disease, your doctor may monitor your blood pressure and kidney function with urine and blood tests during office visits. Ask your doctor whether these tests are necessary for you. \"},\n",
       " {'illness': 'Type 2 diabetes',\n",
       "  'url': 'https://www.mayoclinic.org/diseases-conditions/type-2-diabetes/symptoms-causes/syc-20351193',\n",
       "  'symptoms': 'Signs and symptoms of type 2 diabetes often develop slowly. In fact, you can be living with type 2 diabetes for years and not know it. When signs and symptoms are present, they may include: Increased thirst Frequent urination Increased hunger Unintended weight loss Fatigue Blurred vision Slow-healing sores Frequent infections Numbness or tingling in the hands or feet Areas of darkened skin, usually in the armpits and neck When to see a doctor See your doctor if you notice any signs or symptoms of type 2 diabetes. '},\n",
       " {'illness': 'Heart disease',\n",
       "  'img': 'https://www.mayoclinic.org/-/media/kcms/gbs/patient-consumer/images/2014/09/22/12/43/mcdc7_theheart.jpg',\n",
       "  'url': 'https://www.mayoclinic.org/diseases-conditions/heart-disease/symptoms-causes/syc-20353118',\n",
       "  'symptoms': \"Heart disease symptoms depend on what type of heart disease you have. Symptoms of heart disease in your blood vessels A buildup of fatty plaques in your arteries, or atherosclerosis (ath-ur-o-skluh-ROE-sis) can damage your blood vessels and heart. Plaque buildup causes narrowed or blocked blood vessels that can lead to a heart attack, chest pain (angina) or stroke. Coronary artery disease symptoms may be different for men and women. For instance, men are more likely to have chest pain. Women are more likely to have other signs and symptoms along with chest discomfort, such as shortness of breath, nausea and extreme fatigue. Signs and symptoms can include: Chest pain, chest tightness, chest pressure and chest discomfort (angina) Shortness of breath Pain, numbness, weakness or coldness in your legs or arms if the blood vessels in those parts of your body are narrowed Pain in the neck, jaw, throat, upper abdomen or back You might not be diagnosed with coronary artery disease until you have a heart attack, angina, stroke or heart failure. It's important to watch for cardiovascular symptoms and discuss concerns with your doctor. Cardiovascular disease can sometimes be found early with regular evaluations. Heart disease symptoms caused by abnormal heartbeats (heart arrhythmias) Your heart may beat too quickly, too slowly or irregularly. Heart arrhythmia signs and symptoms can include: Fluttering in your chest Racing heartbeat (tachycardia) Slow heartbeat (bradycardia) Chest pain or discomfort Shortness of breath Lightheadedness Dizziness Fainting (syncope) or near fainting Heart disease symptoms caused by heart defects Serious heart defects that you're born with (congenital heart defects) usually are noticed soon after birth. Heart defect signs and symptoms in children could include: Pale gray or blue skin color (cyanosis) Swelling in the legs, abdomen or areas around the eyes In an infant, shortness of breath during feedings, leading to poor weight gain Less serious congenital heart defects are often not diagnosed until later in childhood or during adulthood. Signs and symptoms of congenital heart defects that usually aren't immediately life-threatening include: Easily getting short of breath during exercise or activity Easily tiring during exercise or activity Swelling in the hands, ankles or feet Heart disease symptoms caused by diseased heart muscle (cardiomyopathy) In early stages of cardiomyopathy, you may have no symptoms. As the condition worsens, symptoms may include: Breathlessness with activity or at rest Swelling of the legs, ankles and feet Fatigue Irregular heartbeats that feel rapid, pounding or fluttering Dizziness, lightheadedness and fainting Heart disease symptoms caused by heart infection Endocarditis is an infection that affects the inner lining of your heart chambers and heart valves (endocardium). Heart infection signs and symptoms can include: Fever Shortness of breath Weakness or fatigue Swelling in your legs or abdomen Changes in your heart rhythm Dry or persistent cough Skin rashes or unusual spots Heart disease symptoms caused by heart valve problems (valvular heart disease) The heart has four valves — the aortic, mitral, pulmonary and tricuspid valves — that open and close to direct blood flow through your heart. Many things can damage your heart valves, leading to narrowing (stenosis), leaking (regurgitation or insufficiency) or improper closing (prolapse). Depending on which valve isn't working properly, valvular heart disease signs and symptoms generally include: Fatigue Shortness of breath Irregular heartbeat Swollen feet or ankles Chest pain Fainting (syncope) When to see a doctor Seek emergency medical care if you have these heart disease signs and symptoms: Chest pain Shortness of breath Fainting Always call 911 or emergency medical help if you think you might be having a heart attack. Heart disease is easier to treat when detected early, so talk to your doctor about your concerns regarding your heart health. If you're concerned about developing heart disease, talk to your doctor about steps you can take to reduce your heart disease risk. This is especially important if you have a family history of heart disease. If you think you may have heart disease, based on new signs or symptoms you're having, make an appointment to see your doctor. \"},\n",
       " {'illness': 'Arthritis',\n",
       "  'img': 'https://www.mayoclinic.org/-/media/kcms/gbs/patient-consumer/images/2013/11/15/17/44/ds01122_ds00020_im03689_mcdc7_arthritis_typesthu_jpg.jpg',\n",
       "  'url': 'https://www.mayoclinic.org/diseases-conditions/arthritis/symptoms-causes/syc-20350772',\n",
       "  'symptoms': 'The most common signs and symptoms of arthritis involve the joints. Depending on the type of arthritis, signs and symptoms may include: Pain Stiffness Swelling Redness Decreased range of motion '},\n",
       " {'illness': 'High cholesterol',\n",
       "  'img': 'https://www.mayoclinic.org/-/media/kcms/gbs/patient-consumer/images/2013/11/15/17/35/ds00525_-ds01120_-ds00064_-ds00178_-ds01052_-ds00537_-ds01179_im00642_ww5r236t_jpg.jpg',\n",
       "  'url': 'https://www.mayoclinic.org/diseases-conditions/high-blood-cholesterol/symptoms-causes/syc-20350800',\n",
       "  'symptoms': \"High cholesterol has no symptoms. A blood test is the only way to detect if you have it. When to see a doctor According to the National Heart, Lung, and Blood Institute (NHLBI), a person's first cholesterol screening should occur between the ages of 9 and 11, and then be repeated every five years after that. The NHLBI recommends that cholesterol screenings occur every one to two years for men ages 45 to 65 and for women ages 55 to 65. People over 65 should receive cholesterol tests annually. If your test results aren't within desirable ranges, your doctor might recommend more-frequent measurements. Your doctor might also suggest more-frequent tests if you have a family history of high cholesterol, heart disease or other risk factors, such as diabetes or high blood pressure. \"},\n",
       " {'illness': 'High blood pressure (hypertension)',\n",
       "  'url': 'https://www.mayoclinic.org/diseases-conditions/high-blood-pressure/symptoms-causes/syc-20373410',\n",
       "  'symptoms': \"Most people with high blood pressure have no signs or symptoms, even if blood pressure readings reach dangerously high levels. A few people with high blood pressure may have headaches, shortness of breath or nosebleeds, but these signs and symptoms aren't specific and usually don't occur until high blood pressure has reached a severe or life-threatening stage. When to see a doctor You'll likely have your blood pressure taken as part of a routine doctor's appointment. Ask your doctor for a blood pressure reading at least every two years starting at age 18. If you're age 40 or older, or you're 18 to 39 with a high risk of high blood pressure, ask your doctor for a blood pressure reading every year. Blood pressure generally should be checked in both arms to determine if there's a difference. It's important to use an appropriate-sized arm cuff. Your doctor will likely recommend more-frequent readings if you've already been diagnosed with high blood pressure or have other risk factors for cardiovascular disease. Children age 3 and older will usually have blood pressure measured as a part of their yearly checkups. If you don't regularly see your doctor, you may be able to get a free blood pressure screening at a health resource fair or other locations in your community. You can also find machines in some stores that will measure your blood pressure for free. Public blood pressure machines, such as those found in pharmacies, may provide helpful information about your blood pressure, but they may have some limitations. The accuracy of these machines depends on several factors, such as a correct cuff size and proper use of the machines. Ask your doctor for advice on using public blood pressure machines. \"}]"
      ]
     },
     "execution_count": 6,
     "metadata": {},
     "output_type": "execute_result"
    }
   ],
   "source": [
    "top10_symptoms"
   ]
  },
  {
   "cell_type": "code",
   "execution_count": 7,
   "metadata": {},
   "outputs": [],
   "source": [
    "import json\n",
    "\n",
    "with open('updated_illness.json', 'w') as data:\n",
    "    json.dump(top10_symptoms, data)"
   ]
  },
  {
   "cell_type": "code",
   "execution_count": null,
   "metadata": {},
   "outputs": [],
   "source": []
  },
  {
   "cell_type": "code",
   "execution_count": null,
   "metadata": {},
   "outputs": [],
   "source": []
  },
  {
   "cell_type": "code",
   "execution_count": null,
   "metadata": {},
   "outputs": [],
   "source": []
  },
  {
   "cell_type": "code",
   "execution_count": null,
   "metadata": {},
   "outputs": [],
   "source": []
  },
  {
   "cell_type": "code",
   "execution_count": null,
   "metadata": {},
   "outputs": [],
   "source": []
  },
  {
   "cell_type": "code",
   "execution_count": null,
   "metadata": {},
   "outputs": [],
   "source": []
  },
  {
   "cell_type": "code",
   "execution_count": null,
   "metadata": {},
   "outputs": [],
   "source": []
  },
  {
   "cell_type": "code",
   "execution_count": 12,
   "metadata": {},
   "outputs": [
    {
     "ename": "AttributeError",
     "evalue": "'NoneType' object has no attribute 'find_all'",
     "output_type": "error",
     "traceback": [
      "\u001b[1;31m---------------------------------------------------------------------------\u001b[0m",
      "\u001b[1;31mAttributeError\u001b[0m                            Traceback (most recent call last)",
      "\u001b[1;32m<ipython-input-12-1882c263dbc7>\u001b[0m in \u001b[0;36m<module>\u001b[1;34m\u001b[0m\n\u001b[1;32m----> 1\u001b[1;33m \u001b[0mtest\u001b[0m \u001b[1;33m=\u001b[0m \u001b[0mget_symptoms\u001b[0m\u001b[1;33m(\u001b[0m\u001b[1;34m\"https://www.mayoclinic.org/diseases-conditions/tricuspid-valve-disease/symptoms-causes/syc-20350609\"\u001b[0m\u001b[1;33m)\u001b[0m\u001b[1;33m\u001b[0m\u001b[1;33m\u001b[0m\u001b[0m\n\u001b[0m",
      "\u001b[1;32m<ipython-input-6-e5a40e699d2d>\u001b[0m in \u001b[0;36mget_symptoms\u001b[1;34m(URL)\u001b[0m\n\u001b[0;32m     10\u001b[0m \u001b[1;31m#     content = content.find('h2').previous_element.previous_element.previous_element\u001b[0m\u001b[1;33m\u001b[0m\u001b[1;33m\u001b[0m\u001b[1;33m\u001b[0m\u001b[0m\n\u001b[0;32m     11\u001b[0m \u001b[1;33m\u001b[0m\u001b[0m\n\u001b[1;32m---> 12\u001b[1;33m     \u001b[0mh2_list\u001b[0m \u001b[1;33m=\u001b[0m \u001b[0mcontent\u001b[0m\u001b[1;33m.\u001b[0m\u001b[0mfind_all\u001b[0m\u001b[1;33m(\u001b[0m\u001b[1;34m'h2'\u001b[0m\u001b[1;33m)\u001b[0m\u001b[1;33m\u001b[0m\u001b[1;33m\u001b[0m\u001b[0m\n\u001b[0m\u001b[0;32m     13\u001b[0m \u001b[1;33m\u001b[0m\u001b[0m\n\u001b[0;32m     14\u001b[0m     \u001b[0msymp_index\u001b[0m \u001b[1;33m=\u001b[0m \u001b[1;33m-\u001b[0m\u001b[1;36m1\u001b[0m\u001b[1;33m\u001b[0m\u001b[1;33m\u001b[0m\u001b[0m\n",
      "\u001b[1;31mAttributeError\u001b[0m: 'NoneType' object has no attribute 'find_all'"
     ]
    }
   ],
   "source": [
    "test = get_symptoms(\"https://www.mayoclinic.org/diseases-conditions/tricuspid-valve-disease/symptoms-causes/syc-20350609\")"
   ]
  },
  {
   "cell_type": "code",
   "execution_count": 10,
   "metadata": {},
   "outputs": [
    {
     "data": {
      "text/plain": [
       "{'illness': 'Mosquito bites',\n",
       " 'symptoms': 'Mosquito bite signs include: A puffy, white and reddish bump that appears a few minutes after the bite A hard, itchy, reddish-brown bump, or multiple bumps, appearing a day or so after the bite or bites Small blisters instead of hard bumps Dark spots that look like bruises More-severe reactions may be experienced by children, adults not previously exposed to the type of mosquito that bit them, and people with immune system disorders. In these people, mosquito bites sometimes trigger: A large area of swelling and redness Low-grade fever Hives Swollen lymph nodes Children are more likely to develop a severe reaction than are adults, because many adults have had mosquito bites throughout their lives and become desensitized. When to see a doctor If mosquito bites seem to be associated with more-serious warning signs — such as fever, headache, body aches and signs of infection — contact your doctor. Request an Appointment at Mayo Clinic '}"
      ]
     },
     "execution_count": 10,
     "metadata": {},
     "output_type": "execute_result"
    }
   ],
   "source": [
    "test"
   ]
  },
  {
   "cell_type": "code",
   "execution_count": null,
   "metadata": {},
   "outputs": [],
   "source": []
  },
  {
   "cell_type": "code",
   "execution_count": null,
   "metadata": {},
   "outputs": [],
   "source": []
  },
  {
   "cell_type": "code",
   "execution_count": null,
   "metadata": {},
   "outputs": [],
   "source": []
  },
  {
   "cell_type": "code",
   "execution_count": null,
   "metadata": {},
   "outputs": [],
   "source": []
  },
  {
   "cell_type": "code",
   "execution_count": null,
   "metadata": {},
   "outputs": [],
   "source": []
  },
  {
   "cell_type": "code",
   "execution_count": null,
   "metadata": {},
   "outputs": [],
   "source": []
  },
  {
   "cell_type": "code",
   "execution_count": null,
   "metadata": {},
   "outputs": [],
   "source": []
  },
  {
   "cell_type": "code",
   "execution_count": null,
   "metadata": {},
   "outputs": [],
   "source": []
  }
 ],
 "metadata": {
  "kernelspec": {
   "display_name": "Python 3",
   "language": "python",
   "name": "python3"
  },
  "language_info": {
   "codemirror_mode": {
    "name": "ipython",
    "version": 3
   },
   "file_extension": ".py",
   "mimetype": "text/x-python",
   "name": "python",
   "nbconvert_exporter": "python",
   "pygments_lexer": "ipython3",
   "version": "3.7.7"
  }
 },
 "nbformat": 4,
 "nbformat_minor": 4
}
