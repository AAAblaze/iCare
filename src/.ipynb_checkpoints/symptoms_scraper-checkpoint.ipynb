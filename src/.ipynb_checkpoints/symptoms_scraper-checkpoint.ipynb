{
 "cells": [
  {
   "cell_type": "code",
   "execution_count": 3,
   "metadata": {},
   "outputs": [],
   "source": [
    "import requests\n",
    "import bs4\n",
    "from bs4 import BeautifulSoup"
   ]
  },
  {
   "cell_type": "code",
   "execution_count": 2,
   "metadata": {},
   "outputs": [],
   "source": [
    "def get_symptoms(URL):\n",
    "    r = requests.get(URL)\n",
    "\n",
    "    soup = BeautifulSoup(r.content, 'html5lib') # If this line causes an error, run 'pip install html5lib' or install html5lib\n",
    "#     print(soup.prettify())\n",
    "\n",
    "    name = soup.find('h1').get_text()\n",
    "    \n",
    "    content = soup.find('div', class_='content')\n",
    "#     content = content.find('h2').previous_element.previous_element.previous_element\n",
    "    \n",
    "    h2_list = content.find_all('h2')\n",
    "    \n",
    "    symp_index = -1\n",
    "    for i in range(len(h2_list)):\n",
    "        if h2_list[i].get_text() == 'Symptoms':\n",
    "            symp_index = i\n",
    "            break\n",
    "\n",
    "    if symp_index == -1:\n",
    "        return {}\n",
    "    else:\n",
    "        visually_hidden = content.find_all(\"span\", {\"class\": \"myc-visuallyhidden\"})\n",
    "        weird_error = content.find_all(\"p\", {\"class\": \"myc-error-header\"})\n",
    "        form_error = [\"myc-subscription-form\", \"acces-list-container\", \"requestappt\"]\n",
    "        \n",
    "        h2_index = symp_index\n",
    "        element = h2_list[h2_index]\n",
    "\n",
    "        parser_dict = {}\n",
    "        parser_dict['illness'] = name\n",
    "        \n",
    "        images = content.find_all(\"img\")\n",
    "        \n",
    "        if len(images) > 0:\n",
    "            parser_dict['img'] = \"https://www.mayoclinic.org\" + images[0]['src']\n",
    "        \n",
    "        parser_dict['url'] = URL\n",
    "        \n",
    "        section_str = \"\"\n",
    "        form_str = \"\"\n",
    "        \n",
    "        form = False\n",
    "\n",
    "        while h2_index == symp_index:\n",
    "            element = element.next_element\n",
    "            if element == h2_list[h2_index + 1]:\n",
    "                parser_dict[h2_list[h2_index].get_text().lower()] = section_str.replace(\"  \", \" \").replace(\" , \", \", \").replace(\" . \", \". \")\n",
    "                h2_index += 1\n",
    "                section_str = ''\n",
    "                \n",
    "                form = False\n",
    "\n",
    "        #         if element.get_text() == '':\n",
    "        #             empty_header = True\n",
    "\n",
    "            elif isinstance(element, bs4.element.NavigableString):\n",
    "                if not isinstance(element, bs4.element.Comment):\n",
    "                    if (element != h2_list[h2_index].get_text()):\n",
    "                        if not element.isspace():\n",
    "                            if form:\n",
    "                                form_str += element\n",
    "                            else:\n",
    "                                section_str += element.strip() + ' '\n",
    "\n",
    "            elif element in visually_hidden:\n",
    "                element = element.next_element\n",
    "#                 print('Got one!')\n",
    "\n",
    "            elif element in weird_error:\n",
    "                element = element.next_element\n",
    "#                 print('Oh!')\n",
    "            \n",
    "            elif isinstance(element, bs4.element.Tag):\n",
    "                if element.name == \"style\":\n",
    "                    element = element.next_element\n",
    "                elif element.name == \"div\" and element.has_attr(\"class\"):\n",
    "                    if any(item in form_error for item in element[\"class\"]):\n",
    "                        form = True\n",
    "            \n",
    "                \n",
    "        return parser_dict"
   ]
  },
  {
   "cell_type": "code",
   "execution_count": 7,
   "metadata": {},
   "outputs": [],
   "source": [
    "# URLS = []\n",
    "# with open('top_10.txt', mode='r') as top10:\n",
    "#     for illness in top10:\n",
    "#         URLS.append(illness.strip())"
   ]
  },
  {
   "cell_type": "code",
   "execution_count": 8,
   "metadata": {},
   "outputs": [],
   "source": [
    "# top10_symptoms = []\n",
    "# for URL in URLS:\n",
    "#     top10_symptoms.append(get_symptoms(URL))"
   ]
  },
  {
   "cell_type": "code",
   "execution_count": 13,
   "metadata": {},
   "outputs": [],
   "source": [
    "# top10_symptoms"
   ]
  },
  {
   "cell_type": "code",
   "execution_count": 10,
   "metadata": {},
   "outputs": [],
   "source": [
    "# import json\n",
    "\n",
    "# with open('updated_illness.json', 'w') as data:\n",
    "#     json.dump(top10_symptoms, data)"
   ]
  },
  {
   "cell_type": "code",
   "execution_count": null,
   "metadata": {},
   "outputs": [],
   "source": []
  },
  {
   "cell_type": "code",
   "execution_count": null,
   "metadata": {},
   "outputs": [],
   "source": []
  },
  {
   "cell_type": "code",
   "execution_count": null,
   "metadata": {},
   "outputs": [],
   "source": []
  },
  {
   "cell_type": "code",
   "execution_count": null,
   "metadata": {},
   "outputs": [],
   "source": []
  },
  {
   "cell_type": "code",
   "execution_count": null,
   "metadata": {},
   "outputs": [],
   "source": []
  },
  {
   "cell_type": "code",
   "execution_count": null,
   "metadata": {},
   "outputs": [],
   "source": []
  },
  {
   "cell_type": "code",
   "execution_count": null,
   "metadata": {},
   "outputs": [],
   "source": []
  },
  {
   "cell_type": "code",
   "execution_count": 12,
   "metadata": {},
   "outputs": [
    {
     "ename": "AttributeError",
     "evalue": "'NoneType' object has no attribute 'find_all'",
     "output_type": "error",
     "traceback": [
      "\u001b[1;31m---------------------------------------------------------------------------\u001b[0m",
      "\u001b[1;31mAttributeError\u001b[0m                            Traceback (most recent call last)",
      "\u001b[1;32m<ipython-input-12-1882c263dbc7>\u001b[0m in \u001b[0;36m<module>\u001b[1;34m\u001b[0m\n\u001b[1;32m----> 1\u001b[1;33m \u001b[0mtest\u001b[0m \u001b[1;33m=\u001b[0m \u001b[0mget_symptoms\u001b[0m\u001b[1;33m(\u001b[0m\u001b[1;34m\"https://www.mayoclinic.org/diseases-conditions/tricuspid-valve-disease/symptoms-causes/syc-20350609\"\u001b[0m\u001b[1;33m)\u001b[0m\u001b[1;33m\u001b[0m\u001b[1;33m\u001b[0m\u001b[0m\n\u001b[0m",
      "\u001b[1;32m<ipython-input-6-e5a40e699d2d>\u001b[0m in \u001b[0;36mget_symptoms\u001b[1;34m(URL)\u001b[0m\n\u001b[0;32m     10\u001b[0m \u001b[1;31m#     content = content.find('h2').previous_element.previous_element.previous_element\u001b[0m\u001b[1;33m\u001b[0m\u001b[1;33m\u001b[0m\u001b[1;33m\u001b[0m\u001b[0m\n\u001b[0;32m     11\u001b[0m \u001b[1;33m\u001b[0m\u001b[0m\n\u001b[1;32m---> 12\u001b[1;33m     \u001b[0mh2_list\u001b[0m \u001b[1;33m=\u001b[0m \u001b[0mcontent\u001b[0m\u001b[1;33m.\u001b[0m\u001b[0mfind_all\u001b[0m\u001b[1;33m(\u001b[0m\u001b[1;34m'h2'\u001b[0m\u001b[1;33m)\u001b[0m\u001b[1;33m\u001b[0m\u001b[1;33m\u001b[0m\u001b[0m\n\u001b[0m\u001b[0;32m     13\u001b[0m \u001b[1;33m\u001b[0m\u001b[0m\n\u001b[0;32m     14\u001b[0m     \u001b[0msymp_index\u001b[0m \u001b[1;33m=\u001b[0m \u001b[1;33m-\u001b[0m\u001b[1;36m1\u001b[0m\u001b[1;33m\u001b[0m\u001b[1;33m\u001b[0m\u001b[0m\n",
      "\u001b[1;31mAttributeError\u001b[0m: 'NoneType' object has no attribute 'find_all'"
     ]
    }
   ],
   "source": [
    "test = get_symptoms(\"https://www.mayoclinic.org/diseases-conditions/tricuspid-valve-disease/symptoms-causes/syc-20350609\")"
   ]
  },
  {
   "cell_type": "code",
   "execution_count": 10,
   "metadata": {},
   "outputs": [
    {
     "data": {
      "text/plain": [
       "{'illness': 'Mosquito bites',\n",
       " 'symptoms': 'Mosquito bite signs include: A puffy, white and reddish bump that appears a few minutes after the bite A hard, itchy, reddish-brown bump, or multiple bumps, appearing a day or so after the bite or bites Small blisters instead of hard bumps Dark spots that look like bruises More-severe reactions may be experienced by children, adults not previously exposed to the type of mosquito that bit them, and people with immune system disorders. In these people, mosquito bites sometimes trigger: A large area of swelling and redness Low-grade fever Hives Swollen lymph nodes Children are more likely to develop a severe reaction than are adults, because many adults have had mosquito bites throughout their lives and become desensitized. When to see a doctor If mosquito bites seem to be associated with more-serious warning signs — such as fever, headache, body aches and signs of infection — contact your doctor. Request an Appointment at Mayo Clinic '}"
      ]
     },
     "execution_count": 10,
     "metadata": {},
     "output_type": "execute_result"
    }
   ],
   "source": [
    "test"
   ]
  },
  {
   "cell_type": "code",
   "execution_count": null,
   "metadata": {},
   "outputs": [],
   "source": []
  },
  {
   "cell_type": "code",
   "execution_count": null,
   "metadata": {},
   "outputs": [],
   "source": []
  },
  {
   "cell_type": "code",
   "execution_count": null,
   "metadata": {},
   "outputs": [],
   "source": []
  },
  {
   "cell_type": "code",
   "execution_count": null,
   "metadata": {},
   "outputs": [],
   "source": []
  },
  {
   "cell_type": "code",
   "execution_count": null,
   "metadata": {},
   "outputs": [],
   "source": []
  },
  {
   "cell_type": "code",
   "execution_count": null,
   "metadata": {},
   "outputs": [],
   "source": []
  },
  {
   "cell_type": "code",
   "execution_count": null,
   "metadata": {},
   "outputs": [],
   "source": []
  },
  {
   "cell_type": "code",
   "execution_count": null,
   "metadata": {},
   "outputs": [],
   "source": []
  }
 ],
 "metadata": {
  "kernelspec": {
   "display_name": "Python 3",
   "language": "python",
   "name": "python3"
  },
  "language_info": {
   "codemirror_mode": {
    "name": "ipython",
    "version": 3
   },
   "file_extension": ".py",
   "mimetype": "text/x-python",
   "name": "python",
   "nbconvert_exporter": "python",
   "pygments_lexer": "ipython3",
   "version": "3.7.7"
  }
 },
 "nbformat": 4,
 "nbformat_minor": 4
}
