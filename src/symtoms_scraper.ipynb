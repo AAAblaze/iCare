{
 "cells": [
  {
   "cell_type": "code",
   "execution_count": 31,
   "metadata": {},
   "outputs": [],
   "source": [
    "import requests\n",
    "import bs4\n",
    "from bs4 import BeautifulSoup\n",
    "\n",
    "URLS = []\n",
    "with open('top_10.txt', mode='r') as top10:\n",
    "    for illness in top10:\n",
    "        URLS.append(illness.strip())\n",
    "        \n"
   ]
  },
  {
   "cell_type": "code",
   "execution_count": 32,
   "metadata": {},
   "outputs": [
    {
     "data": {
      "text/plain": [
       "['https://www.mayoclinic.org/diseases-conditions/atrial-fibrillation/symptoms-causes/syc-20350624',\n",
       " 'https://www.mayoclinic.org/diseases-conditions/copd/symptoms-causes/syc-20353679',\n",
       " 'https://www.mayoclinic.org/diseases-conditions/alzheimers-disease/symptoms-causes/syc-20350447',\n",
       " 'https://www.mayoclinic.org/diseases-conditions/depression/symptoms-causes/syc-20356007',\n",
       " 'https://www.mayoclinic.org/diseases-conditions/heart-failure/symptoms-causes/syc-20373142',\n",
       " 'https://www.mayoclinic.org/diseases-conditions/chronic-kidney-disease/symptoms-causes/syc-20354521',\n",
       " 'https://www.mayoclinic.org/diseases-conditions/type-2-diabetes/symptoms-causes/syc-20351193',\n",
       " 'https://www.mayoclinic.org/diseases-conditions/heart-disease/symptoms-causes/syc-20353118',\n",
       " 'https://www.mayoclinic.org/diseases-conditions/arthritis/symptoms-causes/syc-20350772',\n",
       " 'https://www.mayoclinic.org/diseases-conditions/high-blood-cholesterol/symptoms-causes/syc-20350800',\n",
       " 'https://www.mayoclinic.org/diseases-conditions/high-blood-pressure/symptoms-causes/syc-20373410']"
      ]
     },
     "execution_count": 32,
     "metadata": {},
     "output_type": "execute_result"
    }
   ],
   "source": [
    "URLS"
   ]
  },
  {
   "cell_type": "code",
   "execution_count": 44,
   "metadata": {},
   "outputs": [
    {
     "name": "stdout",
     "output_type": "stream",
     "text": [
      "Got one!\n",
      "Got one!\n"
     ]
    }
   ],
   "source": [
    "top10_symptoms = []\n",
    "for URL in URLS:\n",
    "    top10_symptoms.append(get_symptoms(URL))"
   ]
  },
  {
   "cell_type": "code",
   "execution_count": 45,
   "metadata": {},
   "outputs": [
    {
     "data": {
      "text/plain": [
       "[{'illness': 'Atrial fibrillation',\n",
       "  'symptoms': \"Some people with atrial fibrillation (A-fib) don't notice any symptoms. Those who do have atrial fibrillation symptoms may have signs and symptoms such as: Sensations of a fast, fluttering or pounding heartbeat (palpitations) Chest pain Dizziness Fatigue Lightheadedness Reduced ability to exercise Shortness of breath Weakness Atrial fibrillation may be: Occasional (paroxysmal atrial fibrillation). A-fib symptoms come and go, usually lasting for a few minutes to hours. Sometimes symptoms occur for as long as a week and episodes can happen repeatedly. Symptoms might go away on their own. Some people with occasional A-fib need treatment. Persistent. With this type of atrial fibrillation, the heart rhythm doesn't go back to normal on its own. If a person has A-fib symptoms, cardioversion or treatment with medications may be used to restore and maintain a normal heart rhythm. Long-standing persistent. This type of atrial fibrillation is continuous and lasts longer than 12 months. Permanent. In this type of atrial fibrillation, the irregular heart rhythm can't be restored. Medications are needed to control the heart rate and to prevent blood clots. When to see a doctor If you have any signs or symptoms of atrial fibrillation, make an appointment with your doctor. If you have chest pain, seek immediate medical help. Chest pain could mean that you're having a heart attack. Request an Appointment at Mayo Clinic \"},\n",
       " {'illness': 'COPD',\n",
       "  'symptoms': \"COPD symptoms often don't appear until significant lung damage has occurred, and they usually worsen over time, particularly if smoking exposure continues. Signs and symptoms of COPD may include: Shortness of breath, especially during physical activities Wheezing Chest tightness A chronic cough that may produce mucus (sputum) that may be clear, white, yellow or greenish Frequent respiratory infections Lack of energy Unintended weight loss (in later stages) Swelling in ankles, feet or legs People with COPD are also likely to experience episodes called exacerbations, during which their symptoms become worse than the usual day-to-day variation and persist for at least several days. When to see a doctor Talk to your doctor if your symptoms are not improving with treatment or getting worse, or if you notice symptoms of an infection, such as fever or a change in sputum. Seek immediate medical care if you can't catch your breath, if you experience severe blueness of your lips or fingernail beds (cyanosis) or a rapid heartbeat, or if you feel foggy and have trouble concentrating. Request an Appointment at Mayo Clinic \"},\n",
       " {'illness': \"Alzheimer's disease\",\n",
       "  'symptoms': \"Memory loss is the key symptom of Alzheimer's disease. Early signs include difficulty remembering recent events or conversations. As the disease progresses, memory impairments worsen and other symptoms develop. At first, a person with Alzheimer's disease may be aware of having difficulty remembering things and organizing thoughts. A family member or friend may be more likely to notice how the symptoms worsen. Brain changes associated with Alzheimer's disease lead to growing trouble with: Memory Everyone has occasional memory lapses, but the memory loss associated with Alzheimer's disease persists and worsens, affecting the ability to function at work or at home. People with Alzheimer's may: Repeat statements and questions over and over Forget conversations, appointments or events, and not remember them later Routinely misplace possessions, often putting them in illogical locations Get lost in familiar places Eventually forget the names of family members and everyday objects Have trouble finding the right words to identify objects, express thoughts or take part in conversations Thinking and reasoning Alzheimer's disease causes difficulty concentrating and thinking, especially about abstract concepts such as numbers. Multitasking is especially difficult, and it may be challenging to manage finances, balance checkbooks and pay bills on time. Eventually, a person with Alzheimer's may be unable to recognize and deal with numbers. Making judgments and decisions Alzheimer's causes a decline in the ability to make reasonable decisions and judgments in everyday situations. For example, a person may make poor or uncharacteristic choices in social interactions or wear clothes that are inappropriate for the weather. It may be more difficult to respond effectively to everyday problems, such as food burning on the stove or unexpected driving situations. Planning and performing familiar tasks Once-routine activities that require sequential steps, such as planning and cooking a meal or playing a favorite game, become a struggle as the disease progresses. Eventually, people with advanced Alzheimer's often forget how to perform basic tasks such as dressing and bathing. Changes in personality and behavior Brain changes that occur in Alzheimer's disease can affect moods and behaviors. Problems may include the following: Depression Apathy Social withdrawal Mood swings Distrust in others Irritability and aggressiveness Changes in sleeping habits Wandering Loss of inhibitions Delusions, such as believing something has been stolen Preserved skills Many important skills are preserved for longer periods even while symptoms worsen. Preserved skills may include reading or listening to books, telling stories and reminiscing, singing, listening to music, dancing, drawing, or doing crafts. These skills may be preserved longer because they are controlled by parts of the brain affected later in the course of the disease. When to see a doctor A number of conditions, including treatable conditions, can result in memory loss or other dementia symptoms. If you are concerned about your memory or other thinking skills, talk to your doctor for a thorough assessment and diagnosis. If you are concerned about thinking skills you observe in a family member or friend, talk about your concerns and ask about going together to a doctor's appointment. More Information Alzheimer's disease care at Mayo Clinic Alzheimer's or depression: Could it be both? Alzheimer's stages Memory loss: When to seek help Sundowning: Late-day confusion Show more related information Request an Appointment at Mayo Clinic \"},\n",
       " {'illness': 'Depression (major depressive disorder)',\n",
       "  'symptoms': 'Although depression may occur only once during your life, people typically have multiple episodes. During these episodes, symptoms occur most of the day, nearly every day and may include: Feelings of sadness, tearfulness, emptiness or hopelessness Angry outbursts, irritability or frustration, even over small matters Loss of interest or pleasure in most or all normal activities, such as sex, hobbies or sports Sleep disturbances, including insomnia or sleeping too much Tiredness and lack of energy, so even small tasks take extra effort Reduced appetite and weight loss or increased cravings for food and weight gain Anxiety, agitation or restlessness Slowed thinking, speaking or body movements Feelings of worthlessness or guilt, fixating on past failures or self-blame Trouble thinking, concentrating, making decisions and remembering things Frequent or recurrent thoughts of death, suicidal thoughts, suicide attempts or suicide Unexplained physical problems, such as back pain or headaches For many people with depression, symptoms usually are severe enough to cause noticeable problems in day-to-day activities, such as work, school, social activities or relationships with others. Some people may feel generally miserable or unhappy without really knowing why. Depression symptoms in children and teens Common signs and symptoms of depression in children and teenagers are similar to those of adults, but there can be some differences. In younger children, symptoms of depression may include sadness, irritability, clinginess, worry, aches and pains, refusing to go to school, or being underweight. In teens, symptoms may include sadness, irritability, feeling negative and worthless, anger, poor performance or poor attendance at school, feeling misunderstood and extremely sensitive, using recreational drugs or alcohol, eating or sleeping too much, self-harm, loss of interest in normal activities, and avoidance of social interaction. Depression symptoms in older adults Depression is not a normal part of growing older, and it should never be taken lightly. Unfortunately, depression often goes undiagnosed and untreated in older adults, and they may feel reluctant to seek help. Symptoms of depression may be different or less obvious in older adults, such as: Memory difficulties or personality changes Physical aches or pain Fatigue, loss of appetite, sleep problems or loss of interest in sex — not caused by a medical condition or medication Often wanting to stay at home, rather than going out to socialize or doing new things Suicidal thinking or feelings, especially in older men When to see a doctor If you feel depressed, make an appointment to see your doctor or mental health professional as soon as you can. If you\\'re reluctant to seek treatment, talk to a friend or loved one, any health care professional, a faith leader, or someone else you trust. When to get emergency help If you think you may hurt yourself or attempt suicide, call 911 or your local emergency number immediately. Also consider these options if you\\'re having suicidal thoughts: Call your doctor or mental health professional. Call a suicide hotline number — in the U.S., call the National Suicide Prevention Lifeline at 1-800-273-TALK (1-800-273-8255). Use that same number and press \"1\" to reach the Veterans Crisis Line. Reach out to a close friend or loved one. Contact a minister, spiritual leader or someone else in your faith community. If you have a loved one who is in danger of suicide or has made a suicide attempt, make sure someone stays with that person. Call 911 or your local emergency number immediately. Or, if you think you can do so safely, take the person to the nearest hospital emergency room. More Information Depression (major depressive disorder) care at Mayo Clinic Male depression: Understanding the issues Nervous breakdown: What does it mean? Pain and depression: Is there a link? Show more related information Request an Appointment at Mayo Clinic '},\n",
       " {'illness': 'Heart failure',\n",
       "  'symptoms': \"Heart failure Heart failure Heart failure Heart failure occurs when the heart muscle doesn't pump blood as well as it should. Blood often backs up and causes fluid to build up in the lungs (congest) and in the legs. The fluid buildup can cause shortness of breath and swelling of the legs and feet. Poor blood flow may cause the skin to appear blue (cyanotic). Some types of heart failure can lead to an enlarged heart. Heart failure can be ongoing (chronic), or it may start suddenly (acute). Heart failure signs and symptoms may include: Shortness of breath with activity or when lying down Fatigue and weakness Swelling in the legs, ankles and feet Rapid or irregular heartbeat Reduced ability to exercise Persistent cough or wheezing with white or pink blood-tinged mucus Swelling of the belly area (abdomen) Very rapid weight gain from fluid buildup Nausea and lack of appetite Difficulty concentrating or decreased alertness Chest pain if heart failure is caused by a heart attack When to see a doctor See your doctor if you think you might be experiencing signs or symptoms of heart failure. Call 911 or emergency medical help if you have any of the following: Chest pain Fainting or severe weakness Rapid or irregular heartbeat associated with shortness of breath, chest pain or fainting Sudden, severe shortness of breath and coughing up white or pink, foamy mucus Although these signs and symptoms may be due to heart failure, there are many other possible causes, including other life-threatening heart and lung conditions. Don't try to diagnose yourself. Emergency room doctors will try to stabilize your condition and determine if your symptoms are due to heart failure or something else. If you have a diagnosis of heart failure and if any of the symptoms suddenly become worse or you develop a new sign or symptom, it may mean that existing heart failure is getting worse or not responding to treatment. This may also be the case if you gain 5 pounds (2.3 kilograms) or more within a few days. Contact your doctor promptly. More Information Heart failure care at Mayo Clinic Cardiac asthma: What causes it? Request an Appointment at Mayo Clinic \"},\n",
       " {'illness': 'Chronic kidney disease',\n",
       "  'symptoms': \"Signs and symptoms of chronic kidney disease develop over time if kidney damage progresses slowly. Loss of kidney function can cause a buildup of fluid or body waste or electrolyte problems. Depending on how severe it is, loss of kidney function can cause: Nausea Vomiting Loss of appetite Fatigue and weakness Sleep problems Urinating more or less Decreased mental sharpness Muscle cramps Swelling of feet and ankles Dry, itchy skin High blood pressure (hypertension) that's difficult to control Shortness of breath, if fluid builds up in the lungs Chest pain, if fluid builds up around the lining of the heart Signs and symptoms of kidney disease are often nonspecific. This means they can also be caused by other illnesses. Because your kidneys are able to make up for lost function, you might not develop signs and symptoms until irreversible damage has occurred. When to see a doctor Make an appointment with your doctor if you have signs or symptoms of kidney disease. Early detection might help prevent kidney disease from progressing to kidney failure. If you have a medical condition that increases your risk of kidney disease, your doctor may monitor your blood pressure and kidney function with urine and blood tests during office visits. Ask your doctor whether these tests are necessary for you. Request an Appointment at Mayo Clinic \"},\n",
       " {'illness': 'Type 2 diabetes',\n",
       "  'symptoms': 'Signs and symptoms of type 2 diabetes often develop slowly. In fact, you can be living with type 2 diabetes for years and not know it. When signs and symptoms are present, they may include: Increased thirst Frequent urination Increased hunger Unintended weight loss Fatigue Blurred vision Slow-healing sores Frequent infections Numbness or tingling in the hands or feet Areas of darkened skin, usually in the armpits and neck When to see a doctor See your doctor if you notice any signs or symptoms of type 2 diabetes. Request an Appointment at Mayo Clinic '},\n",
       " {'illness': 'Heart disease',\n",
       "  'symptoms': \"Heart disease symptoms depend on what type of heart disease you have. Symptoms of heart disease in your blood vessels A buildup of fatty plaques in your arteries, or atherosclerosis (ath-ur-o-skluh-ROE-sis) can damage your blood vessels and heart. Plaque buildup causes narrowed or blocked blood vessels that can lead to a heart attack, chest pain (angina) or stroke. Coronary artery disease symptoms may be different for men and women. For instance, men are more likely to have chest pain. Women are more likely to have other signs and symptoms along with chest discomfort, such as shortness of breath, nausea and extreme fatigue. Signs and symptoms can include: Chest pain, chest tightness, chest pressure and chest discomfort (angina) Shortness of breath Pain, numbness, weakness or coldness in your legs or arms if the blood vessels in those parts of your body are narrowed Pain in the neck, jaw, throat, upper abdomen or back You might not be diagnosed with coronary artery disease until you have a heart attack, angina, stroke or heart failure. It's important to watch for cardiovascular symptoms and discuss concerns with your doctor. Cardiovascular disease can sometimes be found early with regular evaluations. Heart disease symptoms caused by abnormal heartbeats (heart arrhythmias) Your heart may beat too quickly, too slowly or irregularly. Heart arrhythmia signs and symptoms can include: Fluttering in your chest Racing heartbeat (tachycardia) Slow heartbeat (bradycardia) Chest pain or discomfort Shortness of breath Lightheadedness Dizziness Fainting (syncope) or near fainting Heart disease symptoms caused by heart defects Serious heart defects that you're born with (congenital heart defects) usually are noticed soon after birth. Heart defect signs and symptoms in children could include: Pale gray or blue skin color (cyanosis) Swelling in the legs, abdomen or areas around the eyes In an infant, shortness of breath during feedings, leading to poor weight gain Less serious congenital heart defects are often not diagnosed until later in childhood or during adulthood. Signs and symptoms of congenital heart defects that usually aren't immediately life-threatening include: Easily getting short of breath during exercise or activity Easily tiring during exercise or activity Swelling in the hands, ankles or feet Heart disease symptoms caused by diseased heart muscle (cardiomyopathy) In early stages of cardiomyopathy, you may have no symptoms. As the condition worsens, symptoms may include: Breathlessness with activity or at rest Swelling of the legs, ankles and feet Fatigue Irregular heartbeats that feel rapid, pounding or fluttering Dizziness, lightheadedness and fainting Heart disease symptoms caused by heart infection Endocarditis is an infection that affects the inner lining of your heart chambers and heart valves (endocardium). Heart infection signs and symptoms can include: Fever Shortness of breath Weakness or fatigue Swelling in your legs or abdomen Changes in your heart rhythm Dry or persistent cough Skin rashes or unusual spots Heart disease symptoms caused by heart valve problems (valvular heart disease) The heart has four valves — the aortic, mitral, pulmonary and tricuspid valves — that open and close to direct blood flow through your heart. Many things can damage your heart valves, leading to narrowing (stenosis), leaking (regurgitation or insufficiency) or improper closing (prolapse). Depending on which valve isn't working properly, valvular heart disease signs and symptoms generally include: Fatigue Shortness of breath Irregular heartbeat Swollen feet or ankles Chest pain Fainting (syncope) When to see a doctor Seek emergency medical care if you have these heart disease signs and symptoms: Chest pain Shortness of breath Fainting Always call 911 or emergency medical help if you think you might be having a heart attack. Heart disease is easier to treat when detected early, so talk to your doctor about your concerns regarding your heart health. If you're concerned about developing heart disease, talk to your doctor about steps you can take to reduce your heart disease risk. This is especially important if you have a family history of heart disease. If you think you may have heart disease, based on new signs or symptoms you're having, make an appointment to see your doctor. Request an Appointment at Mayo Clinic \"},\n",
       " {'illness': 'Arthritis',\n",
       "  'symptoms': 'The most common signs and symptoms of arthritis involve the joints. Depending on the type of arthritis, signs and symptoms may include: Pain Stiffness Swelling Redness Decreased range of motion Request an Appointment at Mayo Clinic '},\n",
       " {'illness': 'High cholesterol',\n",
       "  'symptoms': \"High cholesterol has no symptoms. A blood test is the only way to detect if you have it. When to see a doctor According to the National Heart, Lung, and Blood Institute (NHLBI), a person's first cholesterol screening should occur between the ages of 9 and 11, and then be repeated every five years after that. The NHLBI recommends that cholesterol screenings occur every one to two years for men ages 45 to 65 and for women ages 55 to 65. People over 65 should receive cholesterol tests annually. If your test results aren't within desirable ranges, your doctor might recommend more-frequent measurements. Your doctor might also suggest more-frequent tests if you have a family history of high cholesterol, heart disease or other risk factors, such as diabetes or high blood pressure. More Information Arcus senilis: A sign of high cholesterol? Request an Appointment at Mayo Clinic \"},\n",
       " {'illness': 'High blood pressure (hypertension)',\n",
       "  'symptoms': \"Most people with high blood pressure have no signs or symptoms, even if blood pressure readings reach dangerously high levels. A few people with high blood pressure may have headaches, shortness of breath or nosebleeds, but these signs and symptoms aren't specific and usually don't occur until high blood pressure has reached a severe or life-threatening stage. When to see a doctor You'll likely have your blood pressure taken as part of a routine doctor's appointment. Ask your doctor for a blood pressure reading at least every two years starting at age 18. If you're age 40 or older, or you're 18 to 39 with a high risk of high blood pressure, ask your doctor for a blood pressure reading every year. Blood pressure generally should be checked in both arms to determine if there's a difference. It's important to use an appropriate-sized arm cuff. Your doctor will likely recommend more-frequent readings if you've already been diagnosed with high blood pressure or have other risk factors for cardiovascular disease. Children age 3 and older will usually have blood pressure measured as a part of their yearly checkups. If you don't regularly see your doctor, you may be able to get a free blood pressure screening at a health resource fair or other locations in your community. You can also find machines in some stores that will measure your blood pressure for free. Public blood pressure machines, such as those found in pharmacies, may provide helpful information about your blood pressure, but they may have some limitations. The accuracy of these machines depends on several factors, such as a correct cuff size and proper use of the machines. Ask your doctor for advice on using public blood pressure machines. More Information Pulse pressure: An indicator of heart health? Request an Appointment at Mayo Clinic \"}]"
      ]
     },
     "execution_count": 45,
     "metadata": {},
     "output_type": "execute_result"
    }
   ],
   "source": [
    "top10_symptoms"
   ]
  },
  {
   "cell_type": "code",
   "execution_count": 48,
   "metadata": {},
   "outputs": [],
   "source": [
    "import json\n",
    "\n",
    "with open('updated_illness.json', 'w') as data:\n",
    "    json.dump(top10_symptoms, data)"
   ]
  },
  {
   "cell_type": "code",
   "execution_count": 43,
   "metadata": {},
   "outputs": [],
   "source": [
    "def get_symptoms(URL):\n",
    "    r = requests.get(URL)\n",
    "\n",
    "    soup = BeautifulSoup(r.content, 'html5lib') # If this line causes an error, run 'pip install html5lib' or install html5lib\n",
    "#     print(soup.prettify())\n",
    "\n",
    "    name = soup.find('h1').get_text()\n",
    "    \n",
    "    content = soup.find('div', class_='content')\n",
    "    content = content.find('h2').previous_element.previous_element.previous_element\n",
    "    \n",
    "    h2_list = content.find_all('h2')\n",
    "    \n",
    "    symp_index = -1\n",
    "    for i in range(len(h2_list)):\n",
    "        if h2_list[i].get_text() == 'Symptoms':\n",
    "            symp_index = i\n",
    "            break\n",
    "\n",
    "    if symp_index == -1:\n",
    "        return {}\n",
    "    else:\n",
    "        visually_hidden = content.find_all(\"span\", {\"class\": \"myc-visuallyhidden\"})\n",
    "        weird_error = content.find_all(\"p\", {\"class\": \"myc-error-header\"})\n",
    "        \n",
    "        h2_index = symp_index\n",
    "        element = h2_list[h2_index]\n",
    "\n",
    "        parser_dict = {}\n",
    "        parser_dict['illness'] = name\n",
    "        section_str = ''\n",
    "\n",
    "        while h2_index == symp_index:\n",
    "            element = element.next_element\n",
    "            if element == h2_list[h2_index + 1]:\n",
    "                parser_dict[h2_list[h2_index].get_text().lower()] = section_str.replace(\"  \", \" \").replace(\" , \", \", \").replace(\" . \", \". \")\n",
    "                h2_index += 1\n",
    "                section_str = ''\n",
    "\n",
    "        #         if element.get_text() == '':\n",
    "        #             empty_header = True\n",
    "\n",
    "            elif isinstance(element, bs4.element.NavigableString):\n",
    "                if not isinstance(element, bs4.element.Comment):\n",
    "                    if (element != h2_list[h2_index].get_text()):\n",
    "                        if not element.isspace():\n",
    "                            section_str += element.strip() + ' '\n",
    "\n",
    "            elif element in visually_hidden:\n",
    "                element = element.next_element\n",
    "                print('Got one!')\n",
    "\n",
    "            elif element in weird_error:\n",
    "                element = element.next_element\n",
    "                print('Oh!')\n",
    "                \n",
    "        return parser_dict"
   ]
  },
  {
   "cell_type": "code",
   "execution_count": 4,
   "metadata": {},
   "outputs": [],
   "source": [
    "content = soup.find('div', class_='content')\n",
    "# content = soup.find('div', class_='contentbox')\n",
    "# content = content.next_element.next_element.next_element\n",
    "\n"
   ]
  },
  {
   "cell_type": "code",
   "execution_count": 5,
   "metadata": {},
   "outputs": [],
   "source": [
    "content = content.find('h2').previous_element.previous_element.previous_element"
   ]
  },
  {
   "cell_type": "code",
   "execution_count": 36,
   "metadata": {},
   "outputs": [
    {
     "data": {
      "text/plain": [
       "<div>\n",
       "    \n",
       "\n",
       "    \n",
       "            \n",
       "            <!--googleoff: all--><h2>Overview</h2><!--googleon: all--><div class=\"access-modal right p-3\">\n",
       "\n",
       "\n",
       "<!--googleoff: all-->\n",
       "<button class=\"modal-trigger image-lightbox\" id=\"et_ds4164aab_tg88233438\" onclick=\"openDialog('dialogId6775719', this, 'label6775719', 'modal-lightbox'); return false;\">\n",
       "\t<img alt=\"Coronavirus\" aria-hidden=\"true\" src=\"/-/media/kcms/gbs/patient-consumer/images/2020/02/12/16/17/coronovirus-8col.jpg\"/>\n",
       "\n",
       "    <span>\n",
       "\t    Coronavirus\n",
       "\t    <span class=\"myc-visuallyhidden\">Open pop-up dialog box</span>\n",
       "    </span>\n",
       "\n",
       "\t\n",
       "</button>\n",
       "\n",
       "<!--googleon: all-->\n",
       "<div class=\"dialog-backdrop\">\n",
       "\t<div aria-labelledby=\"label6775719\" aria-modal=\"true\" class=\"hidden\" data-url-tracking=\"true\" id=\"dialogId6775719\" role=\"dialog\">\n",
       "\t\t<div class=\"image-lightbox-container\">\n",
       "\t\t\t<!--googleoff: all-->\n",
       "\t\t\t<div class=\"dialog_form_actions lightbox-close\">\n",
       "\t\t\t\t<button class=\"modal-close\" onclick=\"closeDialog(this, event)\">\n",
       "\t\t\t\t\t\n",
       "\t\t\t\t\t\t<span class=\"caption myc-visuallyhidden\">Close</span>\n",
       "\t\t\t\t\t \n",
       "\t\t\t\t\t\n",
       "\t\t\t\t</button>\n",
       "\t\t\t</div>\n",
       "\t\t\t<!--googleon: all-->\n",
       "\t\t\t<h3 class=\"myc-visuallyhidden\" id=\"label6775719\" tabindex=\"-1\">Coronavirus</h3>\n",
       "\t\t\t<img alt=\"Coronavirus\" src=\"/-/media/kcms/gbs/patient-consumer/images/2020/02/12/16/17/coronovirus-8col.jpg\"/>\n",
       "\n",
       "\t\t\t<div class=\"text lightbox-text\">\n",
       "\t\t\t\t<h3 aria-hidden=\"true\">Coronavirus</h3>\n",
       "\t\t\t\t<p class=\"caption\"></p><p>Coronavirus is a family of viruses that can cause respiratory illnesses such as the common cold, severe acute respiratory syndrome (SARS) and Middle East respiratory syndrome (MERS).</p><p></p>\n",
       "\t\t\t</div>\n",
       "\t\t</div>\n",
       "\t</div>\n",
       "</div>\n",
       "</div>\n",
       "\n",
       "\n",
       "<p>Coronaviruses are a family of viruses that can cause illnesses such as the common cold, severe acute respiratory syndrome (SARS) and Middle East respiratory syndrome (MERS). In 2019, a new coronavirus was identified as the cause of a disease outbreak that originated in China.</p><div id=\"ad-mobile-top-container\"></div>\n",
       "\n",
       "<p>The virus is known as severe acute respiratory syndrome coronavirus 2 (SARS-CoV-2). The disease it causes is called coronavirus disease 2019 (COVID-19). In March 2020, the World Health Organization (WHO) declared the <abbr title=\"coronavirus disease 2019\">COVID-19</abbr> outbreak a pandemic.</p>\n",
       "\n",
       "<p>Public health groups, including the U.S. Centers for Disease Control and Prevention (CDC) and <abbr title=\"World Health Organization\">WHO</abbr>, are monitoring the <abbr title=\"coronavirus disease 2019\">COVID-19</abbr> pandemic and posting updates on their websites. These groups have also issued recommendations for preventing and treating the virus that causes <abbr title=\"coronavirus disease 2019\">COVID-19</abbr>.</p><!--googleoff: all--><div class=\"acces-list-container rc-list\"><h3>Products &amp; Services</h3><div class=\"list-wrapper\"><ul class=\"listGroup\" id=\"ul_e6d09fbd-19fe-49ac-9b47-bd857c0d411b\"><li class=\"acces-listitems\"><a href=\"/coronavirus-covid-19/map\">Coronavirus map: Tracking the trends</a></li><li class=\"acces-hide-listitems\"><a href=\"/coronavirus-covid-19/vaccine-tracker/\">U.S. COVID-19 Vaccine Tracker: See your state's progress</a></li></ul><button aria-controls=\"ul_e6d09fbd-19fe-49ac-9b47-bd857c0d411b\" class=\"acces-list-show-hide\" data-ending=\"false\" data-hide=\"Show fewer products from Mayo Clinic\" data-show=\"Show more products from Mayo Clinic\" data-show-count=\"0\" id=\"btn_e6d09fbd-19fe-49ac-9b47-bd857c0d411b\" type=\"button\">Show more products from Mayo Clinic</button></div></div><!--googleon: all-->\n",
       "        \n",
       "            \n",
       "\n",
       "<div>\n",
       "    <div>\n",
       "        \n",
       "    </div>\n",
       "\n",
       "</div>\n",
       "\n",
       "            \n",
       "        \n",
       "            \n",
       "            <h2>Symptoms</h2><p>Signs and symptoms of coronavirus disease 2019 (COVID-19) may appear 2 to 14 days after exposure. This time after exposure and before having symptoms is called the incubation period. You can still spread <abbr title=\"coronavirus disease 2019\">COVID-19</abbr> before you have symptoms (presymptomatic transmission). Common signs and symptoms can include:</p>\n",
       "<ul>\n",
       "    <li>Fever</li>\n",
       "    <li>Cough</li>\n",
       "    <li>Tiredness</li>\n",
       "</ul>\n",
       "<p>Early symptoms of <abbr title=\"coronavirus disease 2019\">COVID-19</abbr> may include a loss of taste or smell.</p>\n",
       "<p>Other symptoms can include:</p>\n",
       "<ul>\n",
       "    <li>Shortness of breath or difficulty breathing</li>\n",
       "    <li>Muscle aches</li>\n",
       "    <li>Chills</li>\n",
       "    <li>Sore throat</li>\n",
       "<li>Runny nose</li>\n",
       "<li>Headache</li>\n",
       "<li>Chest pain</li>\n",
       "<li>Pink eye (conjunctivitis)</li>\n",
       "<li>Nausea</li>\n",
       "<li>Vomiting</li>\n",
       "<li>Diarrhea</li>\n",
       "<li>Rash</li>\n",
       "</ul>\n",
       "\n",
       "<p>This list isn't complete. Children have similar symptoms to adults and generally have mild illness.</p>\n",
       "\n",
       "<p>The severity of <abbr title=\"coronavirus disease 2019\">COVID-19</abbr> symptoms can range from very mild to severe. Some people may have only a few symptoms. Some people may have no symptoms at all, but can still spread it (asymptomatic transmission). Some people may experience worsened symptoms, such as worsened shortness of breath and pneumonia, about a week after symptoms start.</p>\n",
       "\n",
       "<p>Some people experience <abbr title=\"coronavirus disease 2019\">COVID-19</abbr> symptoms for more than four weeks after they're diagnosed. These health issues are sometimes called post-<abbr title=\"coronavirus disease 2019\">COVID-19</abbr> conditions. Some children experience multisystem inflammatory syndrome, a syndrome that can affect some organs and tissues, several weeks after having <abbr title=\"coronavirus disease 2019\">COVID-19</abbr>. Rarely, some adults experience the syndrome too.</p>\n",
       "\n",
       "\n",
       "<p>People who are older have a higher risk of serious illness from <abbr title=\"coronavirus disease 2019\">COVID-19</abbr>, and the risk increases with age. People who have existing medical conditions also may have a higher risk of serious illness. Certain medical conditions that may increase the risk of serious illness from <abbr title=\"coronavirus disease 2019\">COVID-19</abbr> include:</p>\n",
       "\n",
       "\n",
       "\n",
       "<ul>\n",
       "<li>Serious heart diseases, such as heart failure, coronary artery disease or cardiomyopathy</li>\n",
       "<li>Cancer</li>\n",
       "<li>Chronic obstructive pulmonary disease (COPD)</li>\n",
       "<li>Type 1 or type 2 diabetes</li>\n",
       "<li>Overweight, obesity or severe obesity</li>\n",
       "<li>High blood pressure</li>\n",
       "<li>Smoking</li>\n",
       "<li>Chronic kidney disease</li>\n",
       "<li>Sickle cell disease or thalassemia</li>\n",
       "<li>Weakened immune system from solid organ transplants or bone marrow transplants</li>\n",
       "<li>Pregnancy</li>\n",
       "<li>Asthma</li>\n",
       "<li>Chronic lung diseases such as cystic fibrosis or pulmonary hypertension</li>\n",
       "<li>Liver disease</li>\n",
       "<li>Dementia</li>\n",
       "<li>Down syndrome</li>\n",
       "<li>Weakened immune system from bone marrow transplant, HIV or some medications</li>\n",
       "<li>Brain and nervous system conditions, such as strokes</li>\n",
       "<li>Substance use disorders</li>\n",
       "</ul>\n",
       "\n",
       "<p>This list is not complete. Other medical conditions may increase your risk of serious illness from <abbr title=\"coronavirus disease 2019\">COVID-19</abbr>.</p>\n",
       "<a class=\"linkbox no-border bg\" href=\"https://www.cdc.gov/coronavirus/2019-ncov/symptoms-testing/coronavirus-self-checker.html\" id=\"et-internalPromo-2AA31AA0\">\n",
       "\n",
       "<h3>\n",
       "COVID-19 self-checker\n",
       "</h3>\n",
       "\n",
       "\n",
       "\n",
       "<span class=\"action\">Assess your symptoms on CDC’s coronavirus self-checker tool and find out if you’re a candidate for a COVID-19 test.</span>\n",
       "\n",
       "</a>\n",
       "\n",
       "\n",
       "\n",
       "        \n",
       "            \n",
       "            <h3>When to see a doctor</h3><p>If you have <abbr title=\"coronavirus disease 2019\">COVID-19</abbr> signs or symptoms or you've been in contact with someone diagnosed with <abbr title=\"coronavirus disease 2019\">COVID-19</abbr>, contact your health care provider right away for medical advice. Your health care provider will likely recommend that you get tested for <abbr title=\"coronavirus disease 2019\">COVID-19</abbr>. If you have emergency <abbr title=\"coronavirus disease 2019\">COVID-19</abbr> symptoms, such as trouble breathing, seek care immediately. If you need to go to a hospital, call ahead so that health care providers can take steps to ensure that others aren't exposed.</p>\n",
       "\n",
       "\n",
       "<p>If you have emergency <abbr title=\"coronavirus disease 2019\">COVID-19</abbr> signs and symptoms, seek care immediately. Emergency signs and symptoms can include:</p>\n",
       "<ul>\n",
       "<li>Trouble breathing</li>\n",
       "<li>Persistent chest pain or pressure</li>\n",
       "<li>Inability to stay awake</li>\n",
       "<li>New confusion</li>\n",
       "<li>Pale, gray or blue-colored skin, lips or nail beds — depending on skin tone</li>\n",
       "</ul>\n",
       "\n",
       "<p>This list isn't complete. Let your health care provider know if you are an older adult or have chronic medical conditions, such as heart disease or lung disease, as you may have a greater risk of becoming seriously ill with <abbr title=\"coronavirus disease 2019\">COVID-19</abbr>.</p>\n",
       "<div class=\"contentbox no-border\">\n",
       "\n",
       "\n",
       "\n",
       "\n",
       "<link href=\"~/media/kcms/ux/css/newslettereh.css\" rel=\"stylesheet\"/>\n",
       "\n",
       "<article>\n",
       "\n",
       "\n",
       "    <div class=\"row\">\n",
       "\n",
       "        <div class=\"content\">\n",
       "            <div class=\"social-share\">\n",
       "                 \n",
       "            </div>\n",
       "            <div class=\"myc-subscription-form\" data-last-step=\"true\" data-name-form=\"MKT.PES.HC.EmailSignup\" data-sending-url=\"https://s74881809.t.eloqua.com/e/f2\">\n",
       "                <div class=\"myc-step-container\">\n",
       "                    <div aria-describedby=\"formTitle\" class=\"myc-subscription-step-wrapper\" id=\"first-step\" tabindex=\"-1\">\n",
       "                        <div aria-describedby=\"errorBanner\" class=\"myc-form-comp-wrapper\" hidden=\"\" id=\"gralError\" tabindex=\"-1\">\n",
       "                            <p class=\"myc-error-header\" id=\"errorBanner\" role=\"alert\">There is a problem with\n",
       "                                information submitted for this request. Review/update the\n",
       "                                information highlighted below and resubmit the form.</p>\n",
       "                        </div>\n",
       "                        <h2 class=\"eh-title-main\" id=\"formTitle\">Get the latest health information from Mayo Clinic’s experts.\n",
       "                        </h2>\n",
       "                        <p class=\"myc-subscription-intro\">Sign up for free, and stay up to date on research advancements, health tips and current health topics, like COVID-19, plus expertise  on managing health.</p>\n",
       "\n",
       "\n",
       "                        <div class=\"myc-form-comp-wrapper\">\n",
       "                            \n",
       "                            <div class=\"myc-input-icon-wrapper\">\n",
       "                                <input name=\"elqFormName\" type=\"hidden\" value=\"MKT.PES.HC.EmailSignup\"/>\n",
       "                                <input name=\"elqSiteID\" type=\"hidden\" value=\"74881809\"/>\n",
       "                                <input id=\"fe1932\" name=\"page_url\" type=\"hidden\" value=\"\"/>\n",
       "                                \n",
       "                                <input name=\"pageTitle\" type=\"hidden\" value=\"\"/>\n",
       "                                <!--Requried hidden tracking fields for this form-->\n",
       "                                <input name=\"elqCustomerGUID\" type=\"hidden\" value=\"\"/>\n",
       "                                <input name=\"elqCookieWrite\" type=\"hidden\" value=\"0\"/>\n",
       "\n",
       "                                <input aria-required=\"true\" class=\"myc-input-comp\" data-typemismatch=\"errorMsg1\" data-valuemissing=\"errorMsg\" id=\"inputemail\" name=\"emailAddress\" placeholder=\"Enter your email\" required=\"\" type=\"email\"/>\n",
       "                                <label for=\"inputemail\">Email</label>\n",
       "                                <i class=\"myc-icon icon-error\"></i>\n",
       "                            </div>\n",
       "\n",
       "                            <p aria-live=\"assertive\" class=\"myc-error-hint\" hidden=\"\" id=\"errorMsg\"><span class=\"myc-visuallyhidden\">Error</span>Email field is required</p>\n",
       "                            <p aria-live=\"assertive\" class=\"myc-error-hint\" hidden=\"\" id=\"errorMsg1\"><span class=\"myc-visuallyhidden\">Error</span>Include a valid email address</p>\n",
       "                        </div>\n",
       "\n",
       "                        \n",
       "                        <button aria-controls=\"myc-info\" aria-expanded=\"false\" class=\"acces-show-hide\" data-hide=\"\" data-show=\"\" type=\"button\">Learn more about Mayo Clinic’s use of data.</button>\n",
       "\n",
       "                        <div id=\"myc-info\">\n",
       "                            <p>To provide you with the most relevant and helpful information, and understand which\n",
       "                                information is beneficial, we may combine your email and website usage information with\n",
       "                                other information we have about you. If you are a Mayo Clinic patient, this could\n",
       "                                include protected health information. If we combine this information with your protected\n",
       "                                health information, we will treat all of that information as protected health\n",
       "                                information and will only use or disclose that information as set forth in our notice of\n",
       "                                privacy practices. You may opt-out of email communications at any time by clicking on\n",
       "                                the unsubscribe link in the e-mail.</p>\n",
       "                        </div>\n",
       "                        <div class=\"myc-form-comp-wrapper\">\n",
       "                            <button class=\"myc-primaryBtn\" id=\"newsletterTrigger\" type=\"button\">Subscribe!</button>\n",
       "                        </div>\n",
       "                    </div>\n",
       "                    <div class=\"myc-subscription-step-wrapper\" hidden=\"\" id=\"second-step\">\n",
       "                        <div aria-labelledby=\"happyending\" class=\"myc-subscription-form-ending\" hidden=\"\" id=\"happypath\" tabindex=\"-1\">\n",
       "                            <h3 id=\"happyending\">Thank you for subscribing</h3>\n",
       "                            <p></p>\n",
       "                            <p>Our Housecall e-newsletter will keep you up-to-date on the latest health information.</p>\n",
       "\n",
       "                        </div>\n",
       "                        <div aria-labelledby=\"sadending\" class=\"myc-subscription-form-ending\" hidden=\"\" id=\"sadpath\" tabindex=\"-1\">\n",
       "                            <h3 id=\"sadending\">Sorry something went wrong with your subscription</h3>\n",
       "                            <p>Please, try again in a couple of minutes</p>\n",
       "                            <div class=\"myc-form-comp-wrapper\">\n",
       "                                <button class=\"myc-wordBtn myc-retry\" type=\"button\">Retry</button>\n",
       "                            </div>\n",
       "                        </div>\n",
       "                    </div>\n",
       "                </div>\n",
       "            </div>\n",
       "            <div aria-labelledby=\"myTitle\" class=\"myc-loading\" hidden=\"\" tabindex=\"-1\">\n",
       "                <h2 data-msg=\"Your Form is Being Submitted\" id=\"myTitle\"></h2>\n",
       "                <div class=\"ani\">\n",
       "                    <div class=\"one\"></div>\n",
       "                    <div class=\"two\"></div>\n",
       "                    <div class=\"three\"></div>\n",
       "                </div>\n",
       "            </div>\n",
       "        </div>\n",
       "\n",
       "\n",
       "    </div>\n",
       "\n",
       "</article>\n",
       "\n",
       "<script src=\"~/media/kcms/ux/javascript/subscriptionlist.js\"></script>\n",
       "<script src=\"~/media/kcms/ux/javascript/newslettereh.js\"></script>\n",
       "\n",
       "\n",
       "</div>\n",
       "\n",
       "\n",
       "\n",
       "<!--googleoff: all--><div class=\"acces-list-container rc-list\"><h3>More Information</h3><div class=\"list-wrapper\"><ul class=\"listGroup\" id=\"ul_e84f53d0-e704-4246-afc0-15b167582238\"><li class=\"acces-listitems\"><a href=\"/diseases-conditions/coronavirus/in-depth/coronavirus-vs-flu/art-20490339\">COVID-19 vs. flu: Similarities and differences</a></li><li class=\"acces-listitems\"><a href=\"/diseases-conditions/coronavirus/in-depth/covid-19-cold-flu-and-allergies-differences/art-20503981\">COVID-19, cold, allergies and the flu</a></li><li class=\"acces-listitems\"><a href=\"/diseases-conditions/coronavirus/expert-answers/coronavirus-unusual-symptoms/faq-20487367\">Unusual symptoms of coronavirus</a></li><li class=\"acces-hide-listitems\"><a href=\"/diseases-conditions/coronavirus/multimedia/how-does-covid-19-affect-people-with-diabetes/vid-20510584\">How does COVID-19 affect people with diabetes?</a></li></ul><button aria-controls=\"ul_e84f53d0-e704-4246-afc0-15b167582238\" class=\"acces-list-show-hide\" data-ending=\"false\" data-hide=\"Show less related information\" data-show=\"Show more related information\" data-show-count=\"0\" id=\"btn_e84f53d0-e704-4246-afc0-15b167582238\" type=\"button\">Show more related information</button></div></div><!--googleon: all-->\n",
       "        \n",
       "            \n",
       "    \n",
       "\n",
       "            \n",
       "        \n",
       "            \n",
       "            <h2>Causes</h2><p>Infection with severe acute respiratory syndrome coronavirus 2, or SARS-CoV-2, causes coronavirus disease 2019 (<abbr title=\"coronavirus disease 2019\">COVID-19</abbr>).</p>\n",
       "<p>The virus that causes <abbr title=\"coronavirus disease 2019\">COVID-19</abbr> spreads easily among people. Data has shown that the <abbr title=\"coronavirus disease 2019\">COVID-19</abbr> virus spreads mainly from person to person among those in close contact (within about 6 feet, or 2 meters). The virus spreads by respiratory droplets released when someone with the virus coughs, sneezes, breathes, sings or talks. These droplets can be inhaled or land in the mouth, nose or eyes of a person nearby.</p>\n",
       "<p>Sometimes the <abbr title=\"coronavirus disease 2019\">COVID-19</abbr> virus can spread when a person is exposed to very small droplets or aerosols that stay in the air for several minutes or hours — called airborne transmission.</p>\n",
       "<p>The virus can also spread if you touch a surface with the virus on it and then touch your mouth, nose or eyes. But the risk is low.</p>\n",
       "<p>The <abbr title=\"coronavirus disease 2019\">COVID-19</abbr> virus can spread from someone who is infected but has no symptoms. This is called asymptomatic transmission. The <abbr title=\"coronavirus disease 2019\">COVID-19</abbr> virus can also spread from someone who is infected but hasn't developed symptoms yet. This is called presymptomatic transmission.</p>\n",
       "<p>It's possible to get <abbr title=\"coronavirus disease 2019\">COVID-19</abbr> twice or more, but this is uncommon.</p>\n",
       "<p>When a virus has one or more new mutations it’s called a variant of the original virus. Currently, the CDC has identified two variants of the virus that causes <abbr title=\"coronavirus disease 2019\">COVID-19</abbr> as variants of concern. These include the delta (B.1.617.2) variant and the omicron (B.1.1.529) variant. The delta variant is more contagious than earlier variants and might cause more severe disease. The omicron variant might spread more easily than other variants, including delta. But it’s not yet clear if omicron causes more severe disease.</p>\n",
       "        \n",
       "            \n",
       "            <h2>Risk factors</h2><p>Risk factors for <abbr title=\"coronavirus disease 2019\">COVID-19</abbr> appear to include:</p>\n",
       "<ul>\n",
       "<li>Close contact (within 6 feet, or 2 meters) with someone who has <abbr title=\"coronavirus disease 2019\">COVID-19</abbr></li>\n",
       "<li>Being coughed or sneezed on by an infected person</li>\n",
       "</ul>\n",
       "\n",
       "        \n",
       "            \n",
       "            <h2>Complications</h2><p>Although most people with <abbr title=\"coronavirus disease 2019\">COVID-19</abbr> have mild to moderate symptoms, the disease can cause severe medical complications and lead to death in some people. Older adults or people with existing medical conditions are at greater risk of becoming seriously ill with <abbr title=\"coronavirus disease 2019\">COVID-19</abbr>.</p>\n",
       "\n",
       "<p>Complications can include:</p>\n",
       "<ul>\n",
       "<li>Pneumonia and trouble breathing </li>\n",
       "<li>Organ failure in several organs</li>\n",
       "<li>Heart problems</li>\n",
       "<li>A severe lung condition that causes a low amount of oxygen to go through your bloodstream to your organs (acute respiratory distress syndrome)</li>\n",
       "<li>Blood clots</li>\n",
       "<li>Acute kidney injury</li>\n",
       "<li>Additional viral and bacterial infections</li>\n",
       "</ul><!--googleoff: all--><div class=\"acces-list-container rc-list\"><h3>More Information</h3><div class=\"list-wrapper\"><ul class=\"listGroup\" id=\"ul_f686ee56-5ee5-425f-a5bf-045f94101a66\"><li class=\"acces-listitems\"><a href=\"/diseases-conditions/coronavirus/in-depth/coronavirus-long-term-effects/art-20490351\">Long-term effects of COVID-19</a></li></ul></div></div><!--googleon: all-->\n",
       "        \n",
       "            \n",
       "            <h2>Prevention</h2><p>The U.S. Food and Drug Administration (FDA) has given emergency use authorization to some <abbr title=\"coronavirus disease 2019\">COVID-19</abbr> vaccines in the United States. The <abbr title=\"Food and Drug Administration\">FDA</abbr> has approved the Pfizer-BioNTech <abbr title=\"coronavirus disease 2019\">COVID-19</abbr> vaccine, now called Comirnaty, to prevent <abbr title=\"coronavirus disease 2019\">COVID-19</abbr> in people age 16 and older. The <abbr title=\"Food and Drug Administration\">FDA</abbr> has given emergency use authorization to Pfizer-BioNTech <abbr title=\"coronavirus disease 2019\">COVID-19</abbr> vaccines for ages 5 through 15. The <abbr title=\"U.S. Food and Drug Administration\">FDA</abbr> has approved the Moderna vaccine, now called Spikevax, to prevent <abbr title=\"coronavirus disease 2019\">COVID-19</abbr> in people age 18 and older.</p>\n",
       "\n",
       "<p>A vaccine can prevent you from getting the <abbr title=\"coronavirus disease 2019\">COVID-19</abbr> virus or prevent you from becoming seriously ill if you get the <abbr title=\"coronavirus disease 2019\">COVID-19</abbr> virus. In addition, <abbr title=\"coronavirus disease 2019\">COVID-19</abbr> vaccination might offer better protection than getting sick with <abbr title=\"coronavirus disease 2019\">COVID-19</abbr>. A recent study showed that unvaccinated people who already had <abbr title=\"coronavirus disease 2019\">COVID-19</abbr> are more than twice as likely as fully vaccinated people to get reinfected with <abbr title=\"coronavirus disease 2019\">COVID-19</abbr>.</p>\n",
       "\n",
       "<p>After getting vaccinated, you can more safely return to many activities you may not have been able to do because of the pandemic. However, if you are in an area with a high number of people with <abbr title=\"coronavirus disease 2019\">COVID-19</abbr> in the hospital and new <abbr title=\"coronavirus disease 2019\">COVID-19</abbr> cases, the <abbr title=\"Centers for Disease Control and Prevention\">CDC</abbr>  recommends wearing a mask indoors in public. You're considered fully vaccinated two weeks after you get a second dose of an <abbr title=\"messenger RNA\">mRNA</abbr> <abbr title=\"coronavirus disease 2019\">COVID-19</abbr> vaccine or two weeks after you get a single dose of the Janssen/Johnson &amp; Johnson <abbr title=\"coronavirus disease 2019\">COVID-19</abbr> vaccine. You are considered up to date with your vaccines if you have gotten all recommended <abbr title=\"coronavirus disease 2019\">COVID-19</abbr> vaccines, including booster doses, when you become eligible.</p>\n",
       "\n",
       "<p>An additional primary dose of a <abbr title=\"coronavirus disease 2019\">COVID-19</abbr> vaccine is recommended for people who are vaccinated and might not have had a strong enough immune response.</p>\n",
       "\n",
       "\n",
       "<p>In contrast, a booster dose is recommended for people who are vaccinated and whose immune response weakened over time. Research suggests that getting a booster dose can decrease your risk of infection and severe illness with <abbr title=\"coronavirus disease 2019\">COVID-19</abbr>.</p>\n",
       "<p>People who have a moderately or severely weakened immune system should get an additional primary shot and a booster shot.</p>\n",
       "<p>The <abbr title=\"Centers for Disease Control and Prevention\">CDC</abbr> recommends additional doses and booster doses of <abbr title=\"coronavirus disease 2019\">COVID-19</abbr> vaccines in specific instances:</p>\n",
       "<ul>\n",
       "    <li>\n",
       "    <p><strong>Additional dose.</strong> The <abbr title=\"Centers for Disease Control and Prevention\">CDC</abbr> recommends a third dose of an <abbr title=\"messenger RNA\">mRNA</abbr> <abbr title=\"coronavirus disease 2019\">COVID-19</abbr> vaccine for some people with weakened immune systems, such as those who have had an organ transplant. People with weakened immune systems might not develop enough immunity after vaccination with two doses of an <abbr title=\"messenger RNA\">mRNA</abbr> <abbr title=\"coronavirus disease 2019\">COVID-19</abbr> vaccine. An additional dose might improve their protection against <abbr title=\"coronavirus disease 2019\">COVID-19</abbr>.</p>\n",
       "    <p>The third dose should be given at least 28 days after a second dose of an <abbr title=\"messenger RNA\">mRNA</abbr> <abbr title=\"coronavirus disease 2019\">COVID-19</abbr> vaccine. The additional dose should be the same brand as the other two <abbr title=\"messenger RNA\">mRNA</abbr> <abbr title=\"coronavirus disease 2019\">COVID-19</abbr> vaccine doses you were given. If the brand given isn't known, either brand of <abbr title=\"messenger RNA\">mRNA</abbr> <abbr title=\"coronavirus disease 2019\">COVID-19</abbr> vaccine can be given as a third dose.</p>\n",
       "    </li>\n",
       "    <li>\n",
       "    <p><strong>Booster dose.</strong> If you are age 12 or older, have been given both doses of the Pfizer-BioNTech <abbr title=\"coronavirus disease 2019\">COVID-19</abbr> vaccine and it’s been at least 5 months, you should get a single booster dose. Teens ages 12 to 17 should only get the Pfizer-BioNTech <abbr title=\"coronavirus disease 2019\">COVID-19</abbr> vaccine booster. For people age 18 or older, the Pfizer-BioNTech or Moderna <abbr title=\"coronavirus disease 2019\">COVID-19</abbr> vaccine boosters are preferred in most situations. </p>\n",
       "    <p>If you are age 18 or older, have been given both doses of the Moderna <abbr title=\"coronavirus disease 2019\">COVID-19</abbr> vaccine and it’s been at least 5 months, you should get a single booster dose. The Pfizer-BioNTech or Moderna <abbr title=\"coronavirus disease 2019\">COVID-19</abbr> vaccine boosters are preferred in most situations.</p>\n",
       "    <p>If you are age 18 or older, have been given one dose of the Janssen/Johnson &amp; Johnson <abbr title=\"coronavirus disease 2019\">COVID-19</abbr> vaccine and it’s been at least 2 months, you should get a single booster dose. The Pfizer-BioNTech or Moderna <abbr title=\"coronavirus disease 2019\">COVID-19</abbr> vaccine boosters are preferred in most situations.</p>\n",
       "    <p>Pregnant women may also receive a <abbr title=\"coronavirus disease 2019\">COVID-19</abbr> booster shot.</p>\n",
       "    </li>\n",
       "</ul>\n",
       "<p>The <abbr title=\"Food and Drug Administration\">FDA</abbr> has also authorized the monoclonal antibodies tixagevimab and cilgavimab (Evusheld) to prevent <abbr title=\"coronavirus disease 2019\">COVID-19</abbr> in some people with weakened immune systems or a history of severe reactions to a <abbr title=\"coronavirus disease 2019\">COVID-19</abbr> vaccine.</p>\n",
       "\n",
       "\n",
       "<p>There are many steps you can take to reduce your risk of infection from the <abbr title=\"coronavirus disease 2019\">COVID-19</abbr> virus and reduce the risk of spreading it to others. <abbr title=\"World Health Organization\">WHO</abbr> and <abbr title=\"Centers for Disease Control and Prevention\">CDC</abbr> recommend following these precautions:</p>\n",
       "<ul>\n",
       "<li>Get vaccinated. <abbr title=\"coronavirus disease 2019\">COVID-19</abbr> vaccines reduce the risk of getting and spreading COVID-19.</li>    \n",
       "<li>Avoid close contact (within about 6 feet, or 2 meters) with anyone who is sick or has symptoms.</li>\n",
       "    <li>Keep distance between yourself and others (within about 6 feet, or 2 meters) when you're in indoor public spaces if you're not fully vaccinated. This is especially important if you have a higher risk of serious illness. Keep in mind some people may have <abbr title=\"coronavirus disease 2019\">COVID-19</abbr> and spread it to others, even if they don't have symptoms or don't know they have <abbr title=\"coronavirus disease 2019\">COVID-19</abbr>.</li>\n",
       "    <li>Avoid crowds and indoor places that have poor air flow (ventilation).</li>\n",
       "    <li>Wash your hands often with soap and water for at least 20 seconds, or use an alcohol-based hand sanitizer that contains at least 60% alcohol.</li>\n",
       "<li>Wear a face mask in indoor public spaces if you're in an area with a high number of people with <abbr title=\"coronavirus disease 2019\">COVID-19</abbr> in the hospital and new <abbr title=\"coronavirus disease 2019\">COVID-19</abbr> cases, whether or not you're vaccinated. The <abbr title=\"Centers for Disease Control and Prevention\">CDC</abbr> recommends wearing the most protective mask possible that you'll wear regularly, fits well and is comfortable.</li>\n",
       "    <li>Cover your mouth and nose with your elbow or a tissue when you cough or sneeze. Throw away the used tissue. Wash your hands right away.</li>\n",
       "    <li>Avoid touching your eyes, nose and mouth.</li>\n",
       "    <li>Avoid sharing dishes, glasses, towels, bedding  and other household items if you're sick.</li>\n",
       "    <li>Clean and disinfect high-touch surfaces, such as doorknobs, light switches, electronics and counters, regularly.</li>\n",
       "    <li>Stay home from work, school and public areas and stay home in isolation if you're sick, unless you're going to get medical care. Avoid public transportation, taxis and ride-hailing services if you're sick.</li>\n",
       "</ul>\n",
       "<p>If you have a chronic medical condition and may have a higher risk of serious illness, check with your doctor about other ways to protect yourself.</p>\n",
       "<div class=\"contentbox bg\">\n",
       "\n",
       "\n",
       "\n",
       "<h2>Related information</h2>\n",
       "\n",
       "\n",
       "\n",
       "<ul><li><a href=\"/diseases-conditions/coronavirus/in-depth/coronavirus-vaccine/art-20484859\">COVID-19 vaccines: Get the facts</a></li><li><a href=\"/coronavirus-covid-19/vaccine\">COVID-19 vaccine guidance from Mayo Clinic</a></li><li><a href=\"/coronavirus-covid-19/vaccine/comparing-vaccines\">Comparing the differences between COVID-19 vaccines</a></li><li><a href=\"/diseases-conditions/coronavirus/in-depth/different-types-of-covid-19-vaccines/art-20506465\">Different types of COVID-19 vaccines: How they work</a></li><li><a href=\"https://newsnetwork.mayoclinic.org/discussion/covid-19-vaccine-myths-debunked/\">COVID-19 vaccine myths debunked</a></li></ul>\n",
       "\n",
       "</div>\n",
       "\n",
       "\n",
       "\n",
       "\n",
       "        \n",
       "            \n",
       "            <h3>Travel</h3><p>If you're planning to travel, first check the <abbr title=\"Centers for Disease Control and Prevention\">CDC</abbr> and <abbr title=\"World Health Organization\">WHO</abbr> websites for updates and advice. Be prepared to wear a mask and use appropriate hand hygiene when in public. You may also want to talk with your health care provider if you have health conditions that make you more susceptible to respiratory infections and complications.</p><!--googleoff: all--><div class=\"acces-list-container rc-list\"><h3>More Information</h3><div class=\"list-wrapper\"><ul class=\"listGroup\" id=\"ul_13a511e9-4a86-470e-8744-1410472a30dc\"><li class=\"acces-listitems\"><a href=\"/diseases-conditions/coronavirus/in-depth/coronavirus-safe-travel-advice/art-20486965\">COVID-19 travel advice</a></li><li class=\"acces-listitems\"><a href=\"/diseases-conditions/coronavirus/in-depth/coronavirus-vaccine/art-20484859\">COVID-19 vaccines</a></li><li class=\"acces-listitems\"><a href=\"/diseases-conditions/coronavirus/in-depth/covid-19-vaccines-for-kids/art-20513332\">COVID-19 vaccines for kids: What you need to know</a></li><li class=\"acces-hide-listitems\"><a href=\"/diseases-conditions/coronavirus/in-depth/coronavirus-myths/art-20485720\">Debunking coronavirus myths</a></li><li class=\"acces-hide-listitems\"><a href=\"/diseases-conditions/coronavirus/in-depth/different-types-of-covid-19-vaccines/art-20506465\">Different COVID-19 vaccines</a></li><li class=\"acces-hide-listitems\"><a href=\"/diseases-conditions/coronavirus/in-depth/coronavirus-transmission/art-20482397\">Fight coronavirus (COVID-19) transmission at home</a></li><li class=\"acces-hide-listitems\"><a href=\"/diseases-conditions/coronavirus/in-depth/herd-immunity-and-coronavirus/art-20486808\">Herd immunity and coronavirus</a></li><li class=\"acces-hide-listitems\"><a href=\"/diseases-conditions/coronavirus/in-depth/coronavirus-mask/art-20485449\">How well do face masks protect against COVID-19?</a></li><li class=\"acces-hide-listitems\"><a href=\"/diseases-conditions/coronavirus/in-depth/safe-activities-during-covid19/art-20489385\">Safe outdoor activities during the COVID-19 pandemic</a></li><li class=\"acces-hide-listitems\"><a href=\"/diseases-conditions/coronavirus/in-depth/returning-safely-to-school-covid-19/art-20490441\">Safety tips for returning to school during COVID-19</a></li><li class=\"acces-hide-listitems\"><a href=\"/diseases-conditions/coronavirus/expert-answers/coronavirus-and-vitamin-d/faq-20493088\">COVID-19 and vitamin D</a></li><li class=\"acces-hide-listitems\"><a href=\"/diseases-conditions/coronavirus/expert-answers/novel-coronavirus/faq-20478727\">COVID-19: How can I protect myself?</a></li><li class=\"acces-hide-listitems\"><a href=\"/diseases-conditions/coronavirus/multimedia/how-dirty-are-common-surfaces/vid-20483428\">Mayo Clinic Minute: How dirty are common surfaces?</a></li><li class=\"acces-hide-listitems\"><a href=\"/diseases-conditions/coronavirus/multimedia/youre-washing-your-hands-all-wrong/vid-20483435\">Mayo Clinic Minute: You're washing your hands all wrong</a></li></ul><button aria-controls=\"ul_13a511e9-4a86-470e-8744-1410472a30dc\" class=\"acces-list-show-hide\" data-ending=\"false\" data-hide=\"Show less related information\" data-show=\"Show more related information\" data-show-count=\"0\" id=\"btn_13a511e9-4a86-470e-8744-1410472a30dc\" type=\"button\">Show more related information</button></div></div><!--googleon: all-->\n",
       "        \n",
       "            \n",
       "    <h2></h2>\n",
       "    <p>\n",
       "        <a id=\"phmaincontent_0_phleftchannel_0_SectionRepeater_phclinicaltrials_0_10_ctLink_10\"></a>\n",
       "    </p>\n",
       "\n",
       "            \n",
       "        \n",
       "            \n",
       "            \n",
       "        \n",
       "    \n",
       "    <div class=\"thin-content-by\"><a href=\"/about-this-site/meet-our-medical-editors\">By Mayo Clinic Staff</a></div>\n",
       "</div>"
      ]
     },
     "execution_count": 36,
     "metadata": {},
     "output_type": "execute_result"
    }
   ],
   "source": [
    "content"
   ]
  },
  {
   "cell_type": "code",
   "execution_count": null,
   "metadata": {},
   "outputs": [],
   "source": []
  },
  {
   "cell_type": "code",
   "execution_count": 7,
   "metadata": {},
   "outputs": [
    {
     "data": {
      "text/plain": [
       "[<h2>Overview</h2>,\n",
       " <h2>Symptoms</h2>,\n",
       " <h2 class=\"eh-title-main\" id=\"formTitle\">Get the latest health information from Mayo Clinic’s experts.\n",
       "                         </h2>,\n",
       " <h2 data-msg=\"Your Form is Being Submitted\" id=\"myTitle\"></h2>,\n",
       " <h2>Causes</h2>,\n",
       " <h2>Risk factors</h2>,\n",
       " <h2>Complications</h2>,\n",
       " <h2>Prevention</h2>,\n",
       " <h2>Related information</h2>,\n",
       " <h2></h2>]"
      ]
     },
     "execution_count": 7,
     "metadata": {},
     "output_type": "execute_result"
    }
   ],
   "source": [
    "h2_list = content.find_all('h2')\n",
    "h2_list"
   ]
  },
  {
   "cell_type": "code",
   "execution_count": 8,
   "metadata": {},
   "outputs": [],
   "source": [
    "symp_index = -1\n",
    "for i in range(len(h2_list)):\n",
    "    if h2_list[i].get_text() == 'Symptoms':\n",
    "        symp_index = i\n",
    "        break\n",
    "    \n",
    "# If -1 error?"
   ]
  },
  {
   "cell_type": "code",
   "execution_count": 310,
   "metadata": {},
   "outputs": [
    {
     "data": {
      "text/plain": [
       "bs4.element.NavigableString"
      ]
     },
     "execution_count": 310,
     "metadata": {},
     "output_type": "execute_result"
    }
   ],
   "source": [
    "# Start of symptoms\n",
    "type(h2_list[1].next_element.next_element.next_element)"
   ]
  },
  {
   "cell_type": "code",
   "execution_count": 9,
   "metadata": {},
   "outputs": [
    {
     "data": {
      "text/plain": [
       "[<span class=\"myc-visuallyhidden\">Open pop-up dialog box</span>,\n",
       " <span class=\"caption myc-visuallyhidden\">Close</span>,\n",
       " <span class=\"myc-visuallyhidden\">Error</span>,\n",
       " <span class=\"myc-visuallyhidden\">Error</span>]"
      ]
     },
     "execution_count": 9,
     "metadata": {},
     "output_type": "execute_result"
    }
   ],
   "source": [
    "visually_hidden = content.find_all(\"span\", {\"class\": \"myc-visuallyhidden\"})\n",
    "visually_hidden"
   ]
  },
  {
   "cell_type": "code",
   "execution_count": 11,
   "metadata": {},
   "outputs": [
    {
     "data": {
      "text/plain": [
       "[<p class=\"myc-error-header\" id=\"errorBanner\" role=\"alert\">There is a problem with\n",
       "                                 information submitted for this request. Review/update the\n",
       "                                 information highlighted below and resubmit the form.</p>]"
      ]
     },
     "execution_count": 11,
     "metadata": {},
     "output_type": "execute_result"
    }
   ],
   "source": [
    "weird_error = content.find_all(\"p\", {\"class\": \"myc-error-header\"})\n",
    "weird_error"
   ]
  },
  {
   "cell_type": "code",
   "execution_count": null,
   "metadata": {},
   "outputs": [],
   "source": []
  },
  {
   "cell_type": "code",
   "execution_count": 18,
   "metadata": {},
   "outputs": [
    {
     "name": "stdout",
     "output_type": "stream",
     "text": [
      "Oh!\n"
     ]
    }
   ],
   "source": [
    "h2_index = symp_index\n",
    "element = h2_list[h2_index]\n",
    "\n",
    "parser_dict = {}\n",
    "section_str = ''\n",
    "\n",
    "# empty_header = False\n",
    "while h2_index == symp_index:\n",
    "    element = element.next_element\n",
    "#     print(element)\n",
    "#     print(type(element))\n",
    "    if element == h2_list[h2_index + 1]:\n",
    "        parser_dict[h2_list[h2_index].get_text()] = section_str.replace(\"  \", \" \").replace(\" , \", \", \").replace(\" . \", \". \")\n",
    "        h2_index += 1\n",
    "        section_str = ''\n",
    "        \n",
    "#         if element.get_text() == '':\n",
    "#             empty_header = True\n",
    "            \n",
    "            \n",
    "    elif isinstance(element, bs4.element.NavigableString):\n",
    "        if not isinstance(element, bs4.element.Comment):\n",
    "            if (element != h2_list[h2_index].get_text()):\n",
    "                if not element.isspace():\n",
    "                    section_str += element.strip() + ' '\n",
    "    \n",
    "    elif element in visually_hidden:\n",
    "        element = element.next_element\n",
    "        print('Got one!')\n",
    "        \n",
    "    elif element in weird_error:\n",
    "        element = element.next_element\n",
    "        print('Oh!')\n"
   ]
  },
  {
   "cell_type": "code",
   "execution_count": 19,
   "metadata": {},
   "outputs": [
    {
     "data": {
      "text/plain": [
       "2"
      ]
     },
     "execution_count": 19,
     "metadata": {},
     "output_type": "execute_result"
    }
   ],
   "source": [
    "h2_index"
   ]
  },
  {
   "cell_type": "code",
   "execution_count": 20,
   "metadata": {},
   "outputs": [
    {
     "data": {
      "text/plain": [
       "{'Symptoms': \"Signs and symptoms of coronavirus disease 2019 (COVID-19) may appear 2 to 14 days after exposure. This time after exposure and before having symptoms is called the incubation period. You can still spread COVID-19 before you have symptoms (presymptomatic transmission). Common signs and symptoms can include: Fever Cough Tiredness Early symptoms of COVID-19 may include a loss of taste or smell. Other symptoms can include: Shortness of breath or difficulty breathing Muscle aches Chills Sore throat Runny nose Headache Chest pain Pink eye (conjunctivitis) Nausea Vomiting Diarrhea Rash This list isn't complete. Children have similar symptoms to adults and generally have mild illness. The severity of COVID-19 symptoms can range from very mild to severe. Some people may have only a few symptoms. Some people may have no symptoms at all, but can still spread it (asymptomatic transmission). Some people may experience worsened symptoms, such as worsened shortness of breath and pneumonia, about a week after symptoms start. Some people experience COVID-19 symptoms for more than four weeks after they're diagnosed. These health issues are sometimes called post- COVID-19 conditions. Some children experience multisystem inflammatory syndrome, a syndrome that can affect some organs and tissues, several weeks after having COVID-19. Rarely, some adults experience the syndrome too. People who are older have a higher risk of serious illness from COVID-19, and the risk increases with age. People who have existing medical conditions also may have a higher risk of serious illness. Certain medical conditions that may increase the risk of serious illness from COVID-19 include: Serious heart diseases, such as heart failure, coronary artery disease or cardiomyopathy Cancer Chronic obstructive pulmonary disease (COPD) Type 1 or type 2 diabetes Overweight, obesity or severe obesity High blood pressure Smoking Chronic kidney disease Sickle cell disease or thalassemia Weakened immune system from solid organ transplants or bone marrow transplants Pregnancy Asthma Chronic lung diseases such as cystic fibrosis or pulmonary hypertension Liver disease Dementia Down syndrome Weakened immune system from bone marrow transplant, HIV or some medications Brain and nervous system conditions, such as strokes Substance use disorders This list is not complete. Other medical conditions may increase your risk of serious illness from COVID-19. COVID-19 self-checker Assess your symptoms on CDC’s coronavirus self-checker tool and find out if you’re a candidate for a COVID-19 test. When to see a doctor If you have COVID-19 signs or symptoms or you've been in contact with someone diagnosed with COVID-19, contact your health care provider right away for medical advice. Your health care provider will likely recommend that you get tested for COVID-19. If you have emergency COVID-19 symptoms, such as trouble breathing, seek care immediately. If you need to go to a hospital, call ahead so that health care providers can take steps to ensure that others aren't exposed. If you have emergency COVID-19 signs and symptoms, seek care immediately. Emergency signs and symptoms can include: Trouble breathing Persistent chest pain or pressure Inability to stay awake New confusion Pale, gray or blue-colored skin, lips or nail beds — depending on skin tone This list isn't complete. Let your health care provider know if you are an older adult or have chronic medical conditions, such as heart disease or lung disease, as you may have a greater risk of becoming seriously ill with COVID-19. \"}"
      ]
     },
     "execution_count": 20,
     "metadata": {},
     "output_type": "execute_result"
    }
   ],
   "source": [
    "parser_dict"
   ]
  },
  {
   "cell_type": "code",
   "execution_count": 113,
   "metadata": {},
   "outputs": [],
   "source": [
    "copium = soup.find('div', class_='contentbox')\n",
    "copium = copium.next_element.next_element.next_element"
   ]
  },
  {
   "cell_type": "code",
   "execution_count": 110,
   "metadata": {},
   "outputs": [
    {
     "data": {
      "text/plain": [
       "[<h2>Overview</h2>,\n",
       " <h2>Symptoms</h2>,\n",
       " <h2>Causes</h2>,\n",
       " <h2>Risk factors</h2>,\n",
       " <h2>Complications</h2>,\n",
       " <h2>Prevention</h2>,\n",
       " <h2></h2>]"
      ]
     },
     "execution_count": 110,
     "metadata": {},
     "output_type": "execute_result"
    }
   ],
   "source": [
    "copium.find_all('h2')"
   ]
  },
  {
   "cell_type": "code",
   "execution_count": 143,
   "metadata": {},
   "outputs": [
    {
     "name": "stdout",
     "output_type": "stream",
     "text": [
      "<ul class=\"listGroup\" id=\"ul_e6d09fbd-19fe-49ac-9b47-bd857c0d411b\"><li class=\"acces-listitems\"><a href=\"https://order.store.mayoclinic.com/books/gnweb43?utm_source=MC-DotOrg-PS&amp;utm_medium=Link&amp;utm_campaign=FamilyHealth-Book&amp;utm_content=FHB\">Book: Mayo Clinic Family Health Book, 5th Edition</a></li><li class=\"acces-hide-listitems\"><a href=\"https://order.store.mayoclinic.com/hl/hldiged?utm_source=MC-DotOrg-PS&amp;utm_medium=Link&amp;utm_campaign=HealthLetter-Digital&amp;utm_content=HLDE\">Newsletter: Mayo Clinic Health Letter — Digital Edition</a></li></ul>\n",
      "\n",
      "<ul>\n",
      "    <li>Sensations of a fast, fluttering or pounding heartbeat (palpitations)</li>\n",
      "    <li>Chest pain</li>\n",
      "    <li>Dizziness</li>\n",
      "    <li>Fatigue</li>\n",
      "    <li>Lightheadedness</li>\n",
      "    <li>Reduced ability to exercise</li>\n",
      "    <li>Shortness of breath</li>\n",
      "    <li>Weakness</li>\n",
      "</ul>\n",
      "\n",
      "<ul>\n",
      "    <li><strong>Occasional (paroxysmal atrial fibrillation).</strong> <abbr title=\"Atrial fibrillation\">A-fib</abbr> symptoms come and go, usually lasting for a few minutes to hours. Sometimes symptoms occur for as long as a week and episodes can happen repeatedly. Symptoms might go away on their own. Some people with occasional <abbr title=\"atrial fibrillation\">A-fib</abbr> need treatment.</li>\n",
      "    <li><strong>Persistent.</strong> With this type of atrial fibrillation, the heart rhythm doesn't go back to normal on its own. If a person has <abbr title=\"atrial fibrillation\">A-fib</abbr> symptoms, cardioversion or treatment with medications may be used to restore and maintain a normal heart rhythm.</li>\n",
      "    <li><strong>Long-standing persistent.</strong> This type of atrial fibrillation is continuous and lasts longer than 12 months.</li>\n",
      "    <li><strong>Permanent.</strong> In this type of atrial fibrillation, the irregular heart rhythm can't be restored. Medications are needed to control the heart rate and to prevent blood clots.</li>\n",
      "</ul>\n",
      "\n",
      "<ul>\n",
      "    <li>The signal travels from the sinus node through the two upper heart chambers (atria).</li>\n",
      "    <li>The signal passes through a pathway between the upper and lower chambers called the atrioventricular (AV) node.</li>\n",
      "    <li>The movement of the signal causes your heart to squeeze (contract), sending blood to your heart and body.</li>\n",
      "</ul>\n",
      "\n",
      "<ul>\n",
      "    <li>Coronary artery disease</li>\n",
      "    <li>Heart attack</li>\n",
      "    <li>Heart defect that you're born with (congenital heart defect)</li>\n",
      "    <li>Heart valve problems</li>\n",
      "    <li>High blood pressure</li>\n",
      "    <li>Lung diseases</li>\n",
      "    <li>Physical stress due to surgery, pneumonia or other illnesses</li>\n",
      "    <li>Previous heart surgery</li>\n",
      "    <li>Problem with the heart's natural pacemaker (sick sinus syndrome)</li>\n",
      "    <li>Sleep apnea</li>\n",
      "    <li>Thyroid disease such as an overactive thyroid (hyperthyroidism) and other metabolic imbalances</li>\n",
      "    <li>Use of stimulants, including certain medications, caffeine, tobacco and alcohol</li>\n",
      "    <li>Viral infections</li>\n",
      "</ul>\n",
      "\n",
      "<ul>\n",
      "    <li><strong>Age.</strong> The older a person is, the greater the risk of developing atrial fibrillation.</li>\n",
      "    <li><strong>Heart disease.</strong> Anyone with heart disease — such as heart valve problems, congenital heart disease, congestive heart failure, coronary artery disease, or a history of heart attack or heart surgery — has an increased risk of atrial fibrillation.</li>\n",
      "    <li><strong>High blood pressure.</strong> Having high blood pressure, especially if it's not well controlled with lifestyle changes or medications, can increase the risk of atrial fibrillation.</li>\n",
      "    <li><strong>Thyroid disease.</strong> In some people, thyroid problems may trigger heart rhythm problems (arrhythmias), including atrial fibrillation.</li>\n",
      "    <li><strong>Other chronic health conditions.</strong> People with certain chronic conditions such as diabetes, metabolic syndrome, chronic kidney disease, lung disease or sleep apnea have an increased risk of atrial fibrillation.</li>\n",
      "    <li><strong>Drinking alcohol.</strong> For some people, drinking alcohol can trigger an episode of atrial fibrillation. Binge drinking further increases the risk.</li>\n",
      "    <li><strong>Obesity.</strong> People who have obesity are at higher risk of developing atrial fibrillation.</li>\n",
      "    <li><strong>Family history.</strong> An increased risk of atrial fibrillation occurs in some families.</li>\n",
      "</ul>\n",
      "\n",
      "<ul>\n",
      "    <li>High blood pressure</li>\n",
      "    <li>Diabetes</li>\n",
      "    <li>Heart failure</li>\n",
      "    <li>Some valvular heart disease</li>\n",
      "</ul>\n",
      "\n",
      "<ul>\n",
      "    <li>Eat a nutritious diet</li>\n",
      "    <li>Get regular exercise and maintain a healthy weight</li>\n",
      "    <li>Don't smoke</li>\n",
      "    <li>Avoid or limit alcohol and caffeine</li>\n",
      "    <li>Manage stress, as intense stress and anger can cause heart rhythm problems</li>\n",
      "</ul>\n",
      "\n",
      "Sensations of a fast, fluttering or pounding heartbeat (palpitations) Chest pain Dizziness Fatigue Lightheadedness Reduced ability to exercise Shortness of breath Weakness Occasional (paroxysmal atrial fibrillation). A-fib symptoms come and go, usually lasting for a few minutes to hours. Sometimes symptoms occur for as long as a week and episodes can happen repeatedly. Symptoms might go away on their own. Some people with occasional A-fib need treatment. Persistent. With this type of atrial fibrillation, the heart rhythm doesn't go back to normal on its own. If a person has A-fib symptoms, cardioversion or treatment with medications may be used to restore and maintain a normal heart rhythm. Long-standing persistent. This type of atrial fibrillation is continuous and lasts longer than 12 months. Permanent. In this type of atrial fibrillation, the irregular heart rhythm can't be restored. Medications are needed to control the heart rate and to prevent blood clots. The signal travels from the sinus node through the two upper heart chambers (atria). The signal passes through a pathway between the upper and lower chambers called the atrioventricular (AV) node. The movement of the signal causes your heart to squeeze (contract), sending blood to your heart and body. Coronary artery disease Heart attack Heart defect that you're born with (congenital heart defect) Heart valve problems High blood pressure Lung diseases Physical stress due to surgery, pneumonia or other illnesses Previous heart surgery Problem with the heart's natural pacemaker (sick sinus syndrome) Sleep apnea Thyroid disease such as an overactive thyroid (hyperthyroidism) and other metabolic imbalances Use of stimulants, including certain medications, caffeine, tobacco and alcohol Viral infections Age. The older a person is, the greater the risk of developing atrial fibrillation. Heart disease. Anyone with heart disease — such as heart valve problems, congenital heart disease, congestive heart failure, coronary artery disease, or a history of heart attack or heart surgery — has an increased risk of atrial fibrillation. High blood pressure. Having high blood pressure, especially if it's not well controlled with lifestyle changes or medications, can increase the risk of atrial fibrillation. Thyroid disease. In some people, thyroid problems may trigger heart rhythm problems (arrhythmias), including atrial fibrillation. Other chronic health conditions. People with certain chronic conditions such as diabetes, metabolic syndrome, chronic kidney disease, lung disease or sleep apnea have an increased risk of atrial fibrillation. Drinking alcohol. For some people, drinking alcohol can trigger an episode of atrial fibrillation. Binge drinking further increases the risk. Obesity. People who have obesity are at higher risk of developing atrial fibrillation. Family history. An increased risk of atrial fibrillation occurs in some families. High blood pressure Diabetes Heart failure Some valvular heart disease Eat a nutritious diet Get regular exercise and maintain a healthy weight Don't smoke Avoid or limit alcohol and caffeine Manage stress, as intense stress and anger can cause heart rhythm problems \n"
     ]
    }
   ],
   "source": [
    "listings = ''\n",
    "\n",
    "for ul in copium.find_all('ul'):\n",
    "    print(ul)\n",
    "    print()\n",
    "    try:\n",
    "        if ul['class'] == 'listGroup':\n",
    "            continue\n",
    "    except KeyError: # element does not have a class\n",
    "        li = ul.find_all(\"li\")\n",
    "        for l in li:\n",
    "            listings += l.get_text() + ' '\n",
    "        \n",
    "print(listings)"
   ]
  },
  {
   "cell_type": "code",
   "execution_count": null,
   "metadata": {},
   "outputs": [],
   "source": []
  }
 ],
 "metadata": {
  "kernelspec": {
   "display_name": "Python 3",
   "language": "python",
   "name": "python3"
  },
  "language_info": {
   "codemirror_mode": {
    "name": "ipython",
    "version": 3
   },
   "file_extension": ".py",
   "mimetype": "text/x-python",
   "name": "python",
   "nbconvert_exporter": "python",
   "pygments_lexer": "ipython3",
   "version": "3.7.7"
  }
 },
 "nbformat": 4,
 "nbformat_minor": 4
}
