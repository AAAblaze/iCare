{
 "cells": [
  {
   "cell_type": "code",
   "execution_count": 1,
   "metadata": {},
   "outputs": [],
   "source": [
    "import requests\n",
    "import bs4\n",
    "from bs4 import BeautifulSoup\n",
    "\n",
    "r = requests.get(\"https://www.mayoclinic.org/diseases-conditions/atrial-fibrillation/symptoms-causes/syc-20350624\")\n",
    "soup = BeautifulSoup(r.content, 'html5lib') # If this line causes an error, run 'pip install html5lib' or install html5lib"
   ]
  },
  {
   "cell_type": "code",
   "execution_count": 2,
   "metadata": {},
   "outputs": [
    {
     "data": {
      "text/plain": [
       "[<img alt=\"Mayo Clinic\" src=\"https://www.mayoclinic.org/~/media/386AC346D62D46A4944E0923CAF00D28.svg\"/>,\n",
       " <img alt=\"\" src=\"/-/media/kcms/gbs/research/images/2013/05/02/10/56/globalnav-patientcare.jpg\"/>,\n",
       " <img alt=\"Atrial fibrillation\" aria-hidden=\"true\" src=\"/-/media/kcms/gbs/patient-consumer/images/2014/07/07/14/43/mcdc11_heartforafib.jpg\"/>,\n",
       " <img alt=\"Atrial fibrillation\" src=\"/-/media/kcms/gbs/patient-consumer/images/2014/07/07/14/43/mcdc11_heartforafib.jpg\"/>,\n",
       " <img alt=\"Mayo Clinic\" src=\"/styles/img/logo-mayoclinic.png\"/>,\n",
       " <img alt=\"This website is certified by Health On the Net Foundation. Click to verify.\" loading=\"lazy\" src=\"https://www.honcode.ch/HONcode/Seal/HONConduct636199_hr1.gif\" style=\"border:0px; width: 49px; height: 72px; float: left; margin: 2px;\" title=\"This website is certified by Health On the Net Foundation. Click to verify.\"/>]"
      ]
     },
     "execution_count": 2,
     "metadata": {},
     "output_type": "execute_result"
    }
   ],
   "source": [
    "soup.find_all(\"img\")"
   ]
  },
  {
   "cell_type": "code",
   "execution_count": 6,
   "metadata": {},
   "outputs": [],
   "source": [
    "content = soup.find('div', class_='content')\n",
    "content = content.find('h2').previous_element.previous_element.previous_element\n",
    "images = content.find_all(\"img\")"
   ]
  },
  {
   "cell_type": "code",
   "execution_count": 10,
   "metadata": {},
   "outputs": [
    {
     "name": "stdout",
     "output_type": "stream",
     "text": [
      "https://www.mayoclinic.org/-/media/kcms/gbs/patient-consumer/images/2014/07/07/14/43/mcdc11_heartforafib.jpg\n"
     ]
    }
   ],
   "source": [
    "print(\"https://www.mayoclinic.org\" + images[1]['src'])"
   ]
  },
  {
   "cell_type": "code",
   "execution_count": null,
   "metadata": {},
   "outputs": [],
   "source": []
  }
 ],
 "metadata": {
  "kernelspec": {
   "display_name": "Python 3",
   "language": "python",
   "name": "python3"
  },
  "language_info": {
   "codemirror_mode": {
    "name": "ipython",
    "version": 3
   },
   "file_extension": ".py",
   "mimetype": "text/x-python",
   "name": "python",
   "nbconvert_exporter": "python",
   "pygments_lexer": "ipython3",
   "version": "3.7.7"
  }
 },
 "nbformat": 4,
 "nbformat_minor": 4
}
