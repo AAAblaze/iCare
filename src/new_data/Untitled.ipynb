{
 "cells": [
  {
   "cell_type": "code",
   "execution_count": 159,
   "metadata": {},
   "outputs": [],
   "source": [
    "import urllib.request\n",
    "\n",
    "target_url = \"https://static-content.springer.com/esm/art%3A10.1038%2Fncomms5212/MediaObjects/41467_2014_BFncomms5212_MOESM1045_ESM.txt\"\n",
    "\n",
    "req = urllib.request.urlopen(target_url)\n",
    "\n"
   ]
  },
  {
   "cell_type": "code",
   "execution_count": 160,
   "metadata": {},
   "outputs": [],
   "source": [
    "symp_dis_list = []\n",
    "\n",
    "header = True\n",
    "\n",
    "for line in req:\n",
    "    row = line.decode('utf-8').strip().split('\\t') #utf-8 or iso8859-1 or whatever the page encoding scheme is\n",
    "    symptom, disease, occurence, tfidf = row\n",
    "    \n",
    "    if header:\n",
    "        headers = [symptom, disease, occurence, tfidf]\n",
    "        header = False\n",
    "    else:\n",
    "        \n",
    "    \n",
    "        symp_dis = {}\n",
    "\n",
    "        symp_dis[headers[0]] = symptom\n",
    "        symp_dis[headers[1]] = disease\n",
    "        symp_dis[headers[2]] = occurence\n",
    "        symp_dis[headers[3]] = tfidf\n",
    "\n",
    "        symp_dis_list.append(symp_dis)\n"
   ]
  },
  {
   "cell_type": "code",
   "execution_count": 161,
   "metadata": {},
   "outputs": [
    {
     "data": {
      "text/html": [
       "<div>\n",
       "<style scoped>\n",
       "    .dataframe tbody tr th:only-of-type {\n",
       "        vertical-align: middle;\n",
       "    }\n",
       "\n",
       "    .dataframe tbody tr th {\n",
       "        vertical-align: top;\n",
       "    }\n",
       "\n",
       "    .dataframe thead th {\n",
       "        text-align: right;\n",
       "    }\n",
       "</style>\n",
       "<table border=\"1\" class=\"dataframe\">\n",
       "  <thead>\n",
       "    <tr style=\"text-align: right;\">\n",
       "      <th></th>\n",
       "      <th>MeSH Symptom Term</th>\n",
       "      <th>MeSH Disease Term</th>\n",
       "      <th>PubMed occurrence</th>\n",
       "      <th>TFIDF score</th>\n",
       "    </tr>\n",
       "  </thead>\n",
       "  <tbody>\n",
       "    <tr>\n",
       "      <th>0</th>\n",
       "      <td>Aging, Premature</td>\n",
       "      <td>Respiratory Syncytial Virus Infections</td>\n",
       "      <td>1</td>\n",
       "      <td>3.4645514895379677</td>\n",
       "    </tr>\n",
       "    <tr>\n",
       "      <th>1</th>\n",
       "      <td>Aging, Premature</td>\n",
       "      <td>Orthomyxoviridae Infections</td>\n",
       "      <td>1</td>\n",
       "      <td>3.4645514895379677</td>\n",
       "    </tr>\n",
       "    <tr>\n",
       "      <th>2</th>\n",
       "      <td>Aging, Premature</td>\n",
       "      <td>HIV Infections</td>\n",
       "      <td>3</td>\n",
       "      <td>10.393654468613903</td>\n",
       "    </tr>\n",
       "    <tr>\n",
       "      <th>3</th>\n",
       "      <td>Aging, Premature</td>\n",
       "      <td>Acquired Immunodeficiency Syndrome</td>\n",
       "      <td>3</td>\n",
       "      <td>10.393654468613903</td>\n",
       "    </tr>\n",
       "    <tr>\n",
       "      <th>4</th>\n",
       "      <td>Aging, Premature</td>\n",
       "      <td>Breast Neoplasms</td>\n",
       "      <td>1</td>\n",
       "      <td>3.4645514895379677</td>\n",
       "    </tr>\n",
       "    <tr>\n",
       "      <th>...</th>\n",
       "      <td>...</td>\n",
       "      <td>...</td>\n",
       "      <td>...</td>\n",
       "      <td>...</td>\n",
       "    </tr>\n",
       "    <tr>\n",
       "      <th>147973</th>\n",
       "      <td>Hirsutism</td>\n",
       "      <td>Tobacco Use Disorder</td>\n",
       "      <td>1</td>\n",
       "      <td>2.4837222365262415</td>\n",
       "    </tr>\n",
       "    <tr>\n",
       "      <th>147974</th>\n",
       "      <td>Hirsutism</td>\n",
       "      <td>Radius Fractures</td>\n",
       "      <td>1</td>\n",
       "      <td>2.4837222365262415</td>\n",
       "    </tr>\n",
       "    <tr>\n",
       "      <th>147975</th>\n",
       "      <td>Hirsutism</td>\n",
       "      <td>Burns</td>\n",
       "      <td>1</td>\n",
       "      <td>2.4837222365262415</td>\n",
       "    </tr>\n",
       "    <tr>\n",
       "      <th>147976</th>\n",
       "      <td>Hirsutism</td>\n",
       "      <td>Colles' Fracture</td>\n",
       "      <td>1</td>\n",
       "      <td>2.4837222365262415</td>\n",
       "    </tr>\n",
       "    <tr>\n",
       "      <th>147977</th>\n",
       "      <td>Hirsutism</td>\n",
       "      <td>Radiation Injuries</td>\n",
       "      <td>1</td>\n",
       "      <td>2.4837222365262415</td>\n",
       "    </tr>\n",
       "  </tbody>\n",
       "</table>\n",
       "<p>147978 rows × 4 columns</p>\n",
       "</div>"
      ],
      "text/plain": [
       "       MeSH Symptom Term                       MeSH Disease Term  \\\n",
       "0       Aging, Premature  Respiratory Syncytial Virus Infections   \n",
       "1       Aging, Premature             Orthomyxoviridae Infections   \n",
       "2       Aging, Premature                          HIV Infections   \n",
       "3       Aging, Premature      Acquired Immunodeficiency Syndrome   \n",
       "4       Aging, Premature                        Breast Neoplasms   \n",
       "...                  ...                                     ...   \n",
       "147973         Hirsutism                    Tobacco Use Disorder   \n",
       "147974         Hirsutism                        Radius Fractures   \n",
       "147975         Hirsutism                                   Burns   \n",
       "147976         Hirsutism                        Colles' Fracture   \n",
       "147977         Hirsutism                      Radiation Injuries   \n",
       "\n",
       "       PubMed occurrence         TFIDF score  \n",
       "0                      1  3.4645514895379677  \n",
       "1                      1  3.4645514895379677  \n",
       "2                      3  10.393654468613903  \n",
       "3                      3  10.393654468613903  \n",
       "4                      1  3.4645514895379677  \n",
       "...                  ...                 ...  \n",
       "147973                 1  2.4837222365262415  \n",
       "147974                 1  2.4837222365262415  \n",
       "147975                 1  2.4837222365262415  \n",
       "147976                 1  2.4837222365262415  \n",
       "147977                 1  2.4837222365262415  \n",
       "\n",
       "[147978 rows x 4 columns]"
      ]
     },
     "execution_count": 161,
     "metadata": {},
     "output_type": "execute_result"
    }
   ],
   "source": [
    "import pandas as pd\n",
    "\n",
    "df = pd.DataFrame(symp_dis_list)\n",
    "df"
   ]
  },
  {
   "cell_type": "code",
   "execution_count": 162,
   "metadata": {},
   "outputs": [
    {
     "data": {
      "text/html": [
       "<div>\n",
       "<style scoped>\n",
       "    .dataframe tbody tr th:only-of-type {\n",
       "        vertical-align: middle;\n",
       "    }\n",
       "\n",
       "    .dataframe tbody tr th {\n",
       "        vertical-align: top;\n",
       "    }\n",
       "\n",
       "    .dataframe thead th {\n",
       "        text-align: right;\n",
       "    }\n",
       "</style>\n",
       "<table border=\"1\" class=\"dataframe\">\n",
       "  <thead>\n",
       "    <tr style=\"text-align: right;\">\n",
       "      <th></th>\n",
       "      <th></th>\n",
       "      <th></th>\n",
       "      <th></th>\n",
       "    </tr>\n",
       "    <tr>\n",
       "      <th>MeSH Symptom Term</th>\n",
       "      <th>MeSH Disease Term</th>\n",
       "      <th>PubMed occurrence</th>\n",
       "      <th>TFIDF score</th>\n",
       "    </tr>\n",
       "  </thead>\n",
       "  <tbody>\n",
       "    <tr>\n",
       "      <th rowspan=\"5\" valign=\"top\">Abdomen, Acute</th>\n",
       "      <th>AIDS-Related Opportunistic Infections</th>\n",
       "      <th>5</th>\n",
       "      <th>7.188000652397642</th>\n",
       "    </tr>\n",
       "    <tr>\n",
       "      <th>Abdominal Abscess</th>\n",
       "      <th>13</th>\n",
       "      <th>18.68880169623387</th>\n",
       "    </tr>\n",
       "    <tr>\n",
       "      <th>Abdominal Injuries</th>\n",
       "      <th>86</th>\n",
       "      <th>123.63361122123945</th>\n",
       "    </tr>\n",
       "    <tr>\n",
       "      <th>Abdominal Neoplasms</th>\n",
       "      <th>36</th>\n",
       "      <th>51.75360469726303</th>\n",
       "    </tr>\n",
       "    <tr>\n",
       "      <th>Abnormalities, Multiple</th>\n",
       "      <th>2</th>\n",
       "      <th>2.875200260959057</th>\n",
       "    </tr>\n",
       "    <tr>\n",
       "      <th>...</th>\n",
       "      <th>...</th>\n",
       "      <th>...</th>\n",
       "      <th>...</th>\n",
       "    </tr>\n",
       "    <tr>\n",
       "      <th rowspan=\"5\" valign=\"top\">Weight Loss</th>\n",
       "      <th>Wounds, Nonpenetrating</th>\n",
       "      <th>3</th>\n",
       "      <th>3.0001611341435233</th>\n",
       "    </tr>\n",
       "    <tr>\n",
       "      <th>Xanthomatosis</th>\n",
       "      <th>1</th>\n",
       "      <th>1.0000537113811745</th>\n",
       "    </tr>\n",
       "    <tr>\n",
       "      <th>Xerostomia</th>\n",
       "      <th>1</th>\n",
       "      <th>1.0000537113811745</th>\n",
       "    </tr>\n",
       "    <tr>\n",
       "      <th>Zenker Diverticulum</th>\n",
       "      <th>1</th>\n",
       "      <th>1.0000537113811745</th>\n",
       "    </tr>\n",
       "    <tr>\n",
       "      <th>von Hippel-Lindau Disease</th>\n",
       "      <th>1</th>\n",
       "      <th>1.0000537113811745</th>\n",
       "    </tr>\n",
       "  </tbody>\n",
       "</table>\n",
       "<p>147978 rows × 0 columns</p>\n",
       "</div>"
      ],
      "text/plain": [
       "Empty DataFrame\n",
       "Columns: []\n",
       "Index: [(Abdomen, Acute, AIDS-Related Opportunistic Infections, 5, 7.188000652397642), (Abdomen, Acute, Abdominal Abscess, 13, 18.68880169623387), (Abdomen, Acute, Abdominal Injuries, 86, 123.63361122123945), (Abdomen, Acute, Abdominal Neoplasms, 36, 51.75360469726303), (Abdomen, Acute, Abnormalities, Multiple, 2, 2.875200260959057), (Abdomen, Acute, Abortion, Incomplete, 1, 1.4376001304795285), (Abdomen, Acute, Abortion, Septic, 1, 1.4376001304795285), (Abdomen, Acute, Abortion, Spontaneous, 1, 1.4376001304795285), (Abdomen, Acute, Abruptio Placentae, 2, 2.875200260959057), (Abdomen, Acute, Abscess, 61, 87.69360795925124), (Abdomen, Acute, Acalculous Cholecystitis, 2, 2.875200260959057), (Abdomen, Acute, Acid-Base Imbalance, 1, 1.4376001304795285), (Abdomen, Acute, Acidosis, 9, 12.938401174315757), (Abdomen, Acute, Acidosis, Lactic, 5, 7.188000652397642), (Abdomen, Acute, Acquired Immunodeficiency Syndrome, 19, 27.314402479111042), (Abdomen, Acute, Actinomycetales Infections, 2, 2.875200260959057), (Abdomen, Acute, Actinomycosis, 16, 23.001602087672456), (Abdomen, Acute, Activated Protein C Resistance, 1, 1.4376001304795285), (Abdomen, Acute, Acute Kidney Injury, 14, 20.126401826713398), (Abdomen, Acute, Addison Disease, 5, 7.188000652397642), (Abdomen, Acute, Adenocarcinoma, 37, 53.19120482774255), (Abdomen, Acute, Adenocarcinoma, Mucinous, 3, 4.312800391438586), (Abdomen, Acute, Adenocarcinoma, Papillary, 2, 2.875200260959057), (Abdomen, Acute, Adenoma, 6, 8.625600782877171), (Abdomen, Acute, Adenoma, Islet Cell, 2, 2.875200260959057), (Abdomen, Acute, Adenoma, Liver Cell, 1, 1.4376001304795285), (Abdomen, Acute, Adnexal Diseases, 14, 20.126401826713398), (Abdomen, Acute, Adrenal Cortex Neoplasms, 1, 1.4376001304795285), (Abdomen, Acute, Adrenal Gland Diseases, 11, 15.813601435274814), (Abdomen, Acute, Adrenal Gland Neoplasms, 31, 44.56560404486538), (Abdomen, Acute, Adrenal Insufficiency, 2, 2.875200260959057), (Abdomen, Acute, Agammaglobulinemia, 2, 2.875200260959057), (Abdomen, Acute, Agranulocytosis, 2, 2.875200260959057), (Abdomen, Acute, Airway Obstruction, 1, 1.4376001304795285), (Abdomen, Acute, Alcoholic Intoxication, 1, 1.4376001304795285), (Abdomen, Acute, Alcoholism, 10, 14.376001304795285), (Abdomen, Acute, Altitude Sickness, 1, 1.4376001304795285), (Abdomen, Acute, Amebiasis, 9, 12.938401174315757), (Abdomen, Acute, Amenorrhea, 3, 4.312800391438586), (Abdomen, Acute, Amino Acid Metabolism, Inborn Errors, 1, 1.4376001304795285), (Abdomen, Acute, Amphetamine-Related Disorders, 1, 1.4376001304795285), (Abdomen, Acute, Amyloidosis, 6, 8.625600782877171), (Abdomen, Acute, Anaphylaxis, 1, 1.4376001304795285), (Abdomen, Acute, Ancylostomiasis, 1, 1.4376001304795285), (Abdomen, Acute, Anemia, 2, 2.875200260959057), (Abdomen, Acute, Anemia, Aplastic, 1, 1.4376001304795285), (Abdomen, Acute, Anemia, Hemolytic, 2, 2.875200260959057), (Abdomen, Acute, Anemia, Hemolytic, Autoimmune, 1, 1.4376001304795285), (Abdomen, Acute, Anemia, Hypochromic, 2, 2.875200260959057), (Abdomen, Acute, Anemia, Iron-Deficiency, 1, 1.4376001304795285), (Abdomen, Acute, Anemia, Pernicious, 1, 1.4376001304795285), (Abdomen, Acute, Anemia, Sickle Cell, 18, 25.876802348631514), (Abdomen, Acute, Aneurysm, 23, 33.064803001029155), (Abdomen, Acute, Aneurysm, Dissecting, 14, 20.126401826713398), (Abdomen, Acute, Aneurysm, False, 4, 5.750400521918114), (Abdomen, Acute, Aneurysm, Infected, 1, 1.4376001304795285), (Abdomen, Acute, Aneurysm, Ruptured, 23, 33.064803001029155), (Abdomen, Acute, Angina Pectoris, 2, 2.875200260959057), (Abdomen, Acute, Angioedema, 27, 38.81520352294727), (Abdomen, Acute, Angioedemas, Hereditary, 2, 2.875200260959057), (Abdomen, Acute, Angiolipoma, 1, 1.4376001304795285), (Abdomen, Acute, Angiolymphoid Hyperplasia with Eosinophilia, 9, 12.938401174315757), (Abdomen, Acute, Angiomatosis, 2, 2.875200260959057), (Abdomen, Acute, Angiomyolipoma, 7, 10.063200913356699), (Abdomen, Acute, Angiomyoma, 1, 1.4376001304795285), (Abdomen, Acute, Anisakiasis, 15, 21.56400195719293), (Abdomen, Acute, Anorexia Nervosa, 2, 2.875200260959057), (Abdomen, Acute, Anthrax, 2, 2.875200260959057), (Abdomen, Acute, Anti-Glomerular Basement Membrane Disease, 1, 1.4376001304795285), (Abdomen, Acute, Antiphospholipid Syndrome, 4, 5.750400521918114), (Abdomen, Acute, Anuria, 1, 1.4376001304795285), (Abdomen, Acute, Anus, Imperforate, 1, 1.4376001304795285), (Abdomen, Acute, Anxiety Disorders, 1, 1.4376001304795285), (Abdomen, Acute, Aortic Aneurysm, 25, 35.94000326198821), (Abdomen, Acute, Aortic Aneurysm, Abdominal, 12, 17.251201565754343), (Abdomen, Acute, Aortic Coarctation, 2, 2.875200260959057), (Abdomen, Acute, Aortic Diseases, 8, 11.500801043836228), (Abdomen, Acute, Aortic Rupture, 13, 18.68880169623387), (Abdomen, Acute, Appendiceal Neoplasms, 12, 17.251201565754343), (Abdomen, Acute, Appendicitis, 364, 523.2864474945484), (Abdomen, Acute, Arachnidism, 5, 7.188000652397642), (Abdomen, Acute, Arrhythmias, Cardiac, 2, 2.875200260959057), (Abdomen, Acute, Arterial Occlusive Diseases, 5, 7.188000652397642), (Abdomen, Acute, Arteriosclerosis, 10, 14.376001304795285), (Abdomen, Acute, Arteriovenous Fistula, 3, 4.312800391438586), (Abdomen, Acute, Arteriovenous Malformations, 1, 1.4376001304795285), (Abdomen, Acute, Arteritis, 5, 7.188000652397642), (Abdomen, Acute, Arthritis, 1, 1.4376001304795285), (Abdomen, Acute, Arthritis, Rheumatoid, 5, 7.188000652397642), (Abdomen, Acute, Asbestosis, 1, 1.4376001304795285), (Abdomen, Acute, Ascariasis, 20, 28.75200260959057), (Abdomen, Acute, Ascaridiasis, 2, 2.875200260959057), (Abdomen, Acute, Ascites, 14, 20.126401826713398), (Abdomen, Acute, Asthma, 3, 4.312800391438586), (Abdomen, Acute, Astrocytoma, 1, 1.4376001304795285), (Abdomen, Acute, Athletic Injuries, 5, 7.188000652397642), (Abdomen, Acute, Atrial Fibrillation, 4, 5.750400521918114), (Abdomen, Acute, Autonomic Nervous System Diseases, 2, 2.875200260959057), (Abdomen, Acute, Back Pain, 2, 2.875200260959057), (Abdomen, Acute, Bacteremia, 9, 12.938401174315757), ...]\n",
       "\n",
       "[147978 rows x 0 columns]"
      ]
     },
     "execution_count": 162,
     "metadata": {},
     "output_type": "execute_result"
    }
   ],
   "source": [
    "df.groupby(['MeSH Symptom Term']).sum()"
   ]
  },
  {
   "cell_type": "code",
   "execution_count": 121,
   "metadata": {},
   "outputs": [
    {
     "data": {
      "text/plain": [
       "['MeSH Symptom Term', 'MeSH Disease Term', 'PubMed occurrence']"
      ]
     },
     "execution_count": 121,
     "metadata": {},
     "output_type": "execute_result"
    }
   ],
   "source": [
    "headers[:-1]"
   ]
  },
  {
   "cell_type": "code",
   "execution_count": 165,
   "metadata": {},
   "outputs": [],
   "source": [
    "(df.groupby(['MeSH Symptom Term'])\n",
    "       .apply(lambda x: x[['MeSH Disease Term', 'PubMed occurrence', 'TFIDF score']].to_dict('records'))\n",
    "       .reset_index()\n",
    "       .rename(columns={0:'dis'})\n",
    "       .to_json('nested_data.json', orient='records'))"
   ]
  },
  {
   "cell_type": "code",
   "execution_count": 138,
   "metadata": {},
   "outputs": [],
   "source": [
    "import json\n",
    "\n",
    "nested = json.dumps(json.loads(j), indent=2, sort_keys=True)"
   ]
  },
  {
   "cell_type": "code",
   "execution_count": 158,
   "metadata": {},
   "outputs": [
    {
     "data": {
      "text/plain": [
       "333"
      ]
     },
     "execution_count": 158,
     "metadata": {},
     "output_type": "execute_result"
    }
   ],
   "source": [
    "len(j.loc[2]['dis'])"
   ]
  },
  {
   "cell_type": "code",
   "execution_count": null,
   "metadata": {},
   "outputs": [],
   "source": []
  }
 ],
 "metadata": {
  "kernelspec": {
   "display_name": "Python 3",
   "language": "python",
   "name": "python3"
  },
  "language_info": {
   "codemirror_mode": {
    "name": "ipython",
    "version": 3
   },
   "file_extension": ".py",
   "mimetype": "text/x-python",
   "name": "python",
   "nbconvert_exporter": "python",
   "pygments_lexer": "ipython3",
   "version": "3.7.7"
  }
 },
 "nbformat": 4,
 "nbformat_minor": 4
}
